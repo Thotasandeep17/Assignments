{
 "cells": [
  {
   "cell_type": "markdown",
   "id": "f55df28a",
   "metadata": {},
   "source": [
    "Q.1. What are keywords in python? Using the keyword library, print all the python keywords."
   ]
  },
  {
   "cell_type": "code",
   "execution_count": 1,
   "id": "62e89d1f",
   "metadata": {},
   "outputs": [
    {
     "name": "stdout",
     "output_type": "stream",
     "text": [
      "['False', 'None', 'True', 'and', 'as', 'assert', 'async', 'await', 'break', 'class', 'continue', 'def', 'del', 'elif', 'else', 'except', 'finally', 'for', 'from', 'global', 'if', 'import', 'in', 'is', 'lambda', 'nonlocal', 'not', 'or', 'pass', 'raise', 'return', 'try', 'while', 'with', 'yield']\n"
     ]
    }
   ],
   "source": [
    "#In Python, keywords are reserved words that have special meanings and purposes within the language. \n",
    "#These keywords cannot be used as variable names or identifiers because they are part of the language syntax\n",
    "import keyword\n",
    "all_keywords = keyword.kwlist\n",
    "print(all_keywords)"
   ]
  },
  {
   "cell_type": "markdown",
   "id": "e88abd6f",
   "metadata": {},
   "source": [
    "Q.2. What are the rules to create variables in python?"
   ]
  },
  {
   "cell_type": "code",
   "execution_count": 6,
   "id": "f5b8f3fd",
   "metadata": {},
   "outputs": [],
   "source": [
    "# it doesn't contain any special characters or space except underscore\n",
    "# it doesn't starts with integers and no variable is like only integers\n",
    "# if there is a need to mention an integer then it should definitly combination with alphabets and it must ne not the first position\n",
    "name=\"a\"\n",
    "total_work=\"completed\"\n",
    "sum1=66"
   ]
  },
  {
   "cell_type": "markdown",
   "id": "d4f2ec17",
   "metadata": {},
   "source": [
    "Q.3. What are the standards and conventions followed for the nomenclature of variables in\n",
    "python to improve code readability and maintainability?"
   ]
  },
  {
   "cell_type": "code",
   "execution_count": null,
   "id": "ca28c8ba",
   "metadata": {},
   "outputs": [],
   "source": [
    "#suppose if u create a variable , if it contains two words then separate two words with underscores.\n",
    "\n",
    "#if there is a need to create a variable to sum of 2 numbers then name that variable as sum and avoid other like a,b ,c."
   ]
  },
  {
   "cell_type": "markdown",
   "id": "ab4144a6",
   "metadata": {},
   "source": [
    "Q.4. What will happen if a keyword is used as a variable name?"
   ]
  },
  {
   "cell_type": "code",
   "execution_count": 7,
   "id": "d0930e25",
   "metadata": {},
   "outputs": [
    {
     "ename": "SyntaxError",
     "evalue": "invalid syntax (3526410558.py, line 2)",
     "output_type": "error",
     "traceback": [
      "\u001b[1;36m  File \u001b[1;32m\"C:\\Users\\laksh\\AppData\\Local\\Temp\\ipykernel_10844\\3526410558.py\"\u001b[1;36m, line \u001b[1;32m2\u001b[0m\n\u001b[1;33m    if=10\u001b[0m\n\u001b[1;37m      ^\u001b[0m\n\u001b[1;31mSyntaxError\u001b[0m\u001b[1;31m:\u001b[0m invalid syntax\n"
     ]
    }
   ],
   "source": [
    "#if we use a keyword as variable then it gives syntax error\n",
    "if=10\n",
    "print(if)"
   ]
  },
  {
   "cell_type": "markdown",
   "id": "45989299",
   "metadata": {},
   "source": [
    "Q.5. For what purpose def keyword is used?"
   ]
  },
  {
   "cell_type": "code",
   "execution_count": 8,
   "id": "66754065",
   "metadata": {},
   "outputs": [
    {
     "data": {
      "text/plain": [
       "5"
      ]
     },
     "execution_count": 8,
     "metadata": {},
     "output_type": "execute_result"
    }
   ],
   "source": [
    "# to define a new function we use the def keyword\n",
    "def sum():\n",
    "    return 2+3\n",
    "sum()"
   ]
  },
  {
   "cell_type": "markdown",
   "id": "52caac36",
   "metadata": {},
   "source": [
    "Q.6. What is the operation of this special character ‘\\’?"
   ]
  },
  {
   "cell_type": "code",
   "execution_count": 9,
   "id": "c9d76e82",
   "metadata": {},
   "outputs": [
    {
     "data": {
      "text/plain": [
       "'all \"mangoes\" are in red colour'"
      ]
     },
     "execution_count": 9,
     "metadata": {},
     "output_type": "execute_result"
    }
   ],
   "source": [
    "# It is an escaping letter.\n",
    "# suppose if we want to print a quoted string in a line of string by using this we can able to print\n",
    "s=\"all \\\"mangoes\\\" are in red colour\"\n",
    "s"
   ]
  },
  {
   "cell_type": "markdown",
   "id": "4ce2ea0d",
   "metadata": {},
   "source": [
    "Q.7. Give an example of the following conditions:\n",
    "(i) Homogeneous list\n",
    "(ii) Heterogeneous set\n",
    "(iii) Homogeneous tuple"
   ]
  },
  {
   "cell_type": "code",
   "execution_count": 13,
   "id": "b9f0538b",
   "metadata": {},
   "outputs": [
    {
     "data": {
      "text/plain": [
       "('hello', 'sum', 'abc')"
      ]
     },
     "execution_count": 13,
     "metadata": {},
     "output_type": "execute_result"
    }
   ],
   "source": [
    "#Homogeneous list\n",
    "l=[1,2,3,4]   # it contains only integers\n",
    "#Heterogenious set:\n",
    "s={1,\"a\",3.5,True}\n",
    "s\n",
    "#Homogenious tuple\n",
    "t=('hello','sum','abc')\n",
    "t"
   ]
  },
  {
   "cell_type": "markdown",
   "id": "a9dd471a",
   "metadata": {},
   "source": [
    "Q.8. Explain the mutable and immutable data types with proper explanation & examples."
   ]
  },
  {
   "cell_type": "code",
   "execution_count": 15,
   "id": "5585f049",
   "metadata": {},
   "outputs": [
    {
     "name": "stdout",
     "output_type": "stream",
     "text": [
      "[10, 2, 3]\n",
      "Hello World\n",
      "Hello\n"
     ]
    }
   ],
   "source": [
    "#Mutable Data Types:\n",
    "\"\"\"Mutable data types are those that can be modified or changed after creation.\n",
    "When you modify a mutable object, you are actually changing its internal state or content without creating a new object.\n",
    "Some examples of mutable data types in Python are:  List, Sets, dictionaries\"\"\"\n",
    "l = [1, 2, 3]\n",
    "l[0] = 10\n",
    "print(l) \n",
    "#Immutable Data Types:\n",
    "\"\"\"Immutable data types, on the other hand, cannot be modified after creation.\n",
    "When you \"modify\" an immutable object, you are actually creating a new object with the desired value. \n",
    "The original object remains unchanged. \n",
    "Examples of immutable data types in Python include: integers,floats,strings,tuples\"\"\"\n",
    "my_string = \"Hello\"\n",
    "modified_string = my_string + \" World\"\n",
    "print(modified_string)  \n",
    "print(my_string)\n"
   ]
  },
  {
   "cell_type": "code",
   "execution_count": null,
   "id": "30eab217",
   "metadata": {},
   "outputs": [],
   "source": [
    "#Q.9. Write a code to create the given structure using only for loop.\n",
    "#     *\n",
    "#    ***\n",
    "#   *****\n",
    "#  *******\n",
    "# *********"
   ]
  },
  {
   "cell_type": "code",
   "execution_count": 16,
   "id": "2d938bc2",
   "metadata": {},
   "outputs": [
    {
     "name": "stdout",
     "output_type": "stream",
     "text": [
      "    *\n",
      "   ***\n",
      "  *****\n",
      " *******\n",
      "*********\n"
     ]
    }
   ],
   "source": [
    "rows = 5\n",
    "\n",
    "for i in range(rows):\n",
    "    for j in range(rows - i - 1):\n",
    "        print(\" \", end=\"\")\n",
    "    for k in range(2 * i + 1):\n",
    "        print(\"*\", end=\"\")\n",
    "    print()"
   ]
  },
  {
   "cell_type": "code",
   "execution_count": null,
   "id": "ed51ccfb",
   "metadata": {},
   "outputs": [],
   "source": [
    "Q.10. Write a code to create the given structure using while loop.\n",
    "|||||||||\n",
    " |||||||\n",
    "  |||||\n",
    "   |||\n",
    "    |"
   ]
  },
  {
   "cell_type": "code",
   "execution_count": 17,
   "id": "53f1dfed",
   "metadata": {},
   "outputs": [
    {
     "name": "stdout",
     "output_type": "stream",
     "text": [
      "|||||||||\n",
      " |||||||\n",
      "  |||||\n",
      "   |||\n",
      "    |\n"
     ]
    }
   ],
   "source": [
    "rows = 5\n",
    "count = 0\n",
    "spaces = 0\n",
    "\n",
    "while count < rows:\n",
    "    spaces = count\n",
    "\n",
    "    while spaces > 0:\n",
    "        print(\" \", end=\"\")\n",
    "        spaces -= 1\n",
    "\n",
    "    symbols = (2 * (rows - count) - 1)\n",
    "\n",
    "    while symbols > 0:\n",
    "        print(\"|\", end=\"\")\n",
    "        symbols -= 1\n",
    "\n",
    "    print()\n",
    "    count += 1"
   ]
  },
  {
   "cell_type": "code",
   "execution_count": null,
   "id": "5d107277",
   "metadata": {},
   "outputs": [],
   "source": []
  }
 ],
 "metadata": {
  "kernelspec": {
   "display_name": "Python 3 (ipykernel)",
   "language": "python",
   "name": "python3"
  },
  "language_info": {
   "codemirror_mode": {
    "name": "ipython",
    "version": 3
   },
   "file_extension": ".py",
   "mimetype": "text/x-python",
   "name": "python",
   "nbconvert_exporter": "python",
   "pygments_lexer": "ipython3",
   "version": "3.10.1"
  }
 },
 "nbformat": 4,
 "nbformat_minor": 5
}
