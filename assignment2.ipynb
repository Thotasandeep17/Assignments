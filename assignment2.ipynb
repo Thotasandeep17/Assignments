{
 "cells": [
  {
   "cell_type": "markdown",
   "id": "b8f2baba",
   "metadata": {},
   "source": [
    "1.What are the two values of the Boolean data type? How do you write them?"
   ]
  },
  {
   "cell_type": "markdown",
   "id": "08cef910",
   "metadata": {},
   "source": [
    "Ans:\n",
    "The boolean data type in python is represented by two built-in constants- True and False.\n",
    "\n",
    "These values are used to indicate logical states such as yes/no, or true/false conditions.\n",
    "\n",
    "Boolean values are used in Python for various operations and comparisons.\n"
   ]
  },
  {
   "cell_type": "code",
   "execution_count": 1,
   "id": "8e2930ce",
   "metadata": {},
   "outputs": [
    {
     "name": "stdout",
     "output_type": "stream",
     "text": [
      "flase\n"
     ]
    }
   ],
   "source": [
    "#declartion of boolean data types \n",
    "a=10\n",
    "b=20 \n",
    "if a>b :\n",
    "    print(\"true\")\n",
    "else:\n",
    "        print('flase')"
   ]
  },
  {
   "cell_type": "markdown",
   "id": "8e81ccd0",
   "metadata": {},
   "source": [
    "2.What are the three different types of Boolean operators?"
   ]
  },
  {
   "cell_type": "markdown",
   "id": "0475a9e0",
   "metadata": {},
   "source": [
    "ANS:\n",
    "\n",
    "    AND Operator:\n",
    "        This operator returns True if both the operands are True else it returns False.\n",
    "  It is denoted by the symbol \"and\" or \"&&\".\n",
    "  \n",
    "  OR Operator:\n",
    "   The OR operator returns \"True\" if at least one of the operands is true, and \"False\" if both operands are false.\n",
    "It is denoted by the symbol \"or\".\n",
    "\n",
    "NOT Operator:\n",
    "         If the operand is \"true\", the NOT operator returns false, and if the operand is \"false\", it returns true.\n",
    " It is denoted by the symbol \"not\" or \"!\".\n"
   ]
  },
  {
   "cell_type": "code",
   "execution_count": 2,
   "id": "03787c16",
   "metadata": {},
   "outputs": [
    {
     "name": "stdout",
     "output_type": "stream",
     "text": [
      "The numbers are greater than 0\n",
      "Atleast one number has boolean value as True\n",
      "False\n"
     ]
    }
   ],
   "source": [
    "#AND OPERATOR \n",
    "a = 10\n",
    "b = 10\n",
    "c = -10\n",
    " \n",
    "if a > 0 and b > 0:\n",
    "    print(\"The numbers are greater than 0\")\n",
    "else:\n",
    "    print(\"Atleast one number is not greater than 0\")\n",
    "\n",
    "#OR OPERATOR\n",
    "a = 10\n",
    "b = 12\n",
    "c = 0\n",
    "\n",
    "if a or b or c:\n",
    "    print(\"Atleast one number has boolean value as True\")\n",
    "else:\n",
    "    print(\"All the numbers have boolean value as False\")\n",
    "\n",
    "#NOT OPERATOR\n",
    "x = True\n",
    "y = not x\n",
    "print(y)\n"
   ]
  },
  {
   "cell_type": "markdown",
   "id": "defadc07",
   "metadata": {},
   "source": [
    "3.Make a list of each Boolean operator's truth tables (i.e. every possible combination of Boolean values for the operator and what it evaluate)."
   ]
  },
  {
   "cell_type": "markdown",
   "id": "3d39cf3b",
   "metadata": {},
   "source": [
    "#ANS:\n",
    "    #AND Operator:\n",
    "        #This operator returns True if both the operands are True else it returns False.\n",
    "  #It is denoted by the symbol \"and\" or \"&&\".\n",
    "    \n",
    "#X   \t  OPERATION        y            \t   Returns\n",
    "TRUE      And              TRUE               True\n",
    "TRUE      And              FALSE              False\n",
    "FALSE     And              TRUE               False\n",
    "FALSE     And              FALSE              False\n",
    "\n",
    " #OR Operator:\n",
    "   #The OR operator returns \"True\" if at least one of the operands is true, and \"False\" if both operands are false.\n",
    "#It is denoted by the symbol \"or\".\n",
    "   \n",
    "  #X\t OPERATION\t       y\t                    Returns\n",
    "True\t      or\t        True\t                    True\n",
    "True\t      or\t        False\t                    True\n",
    "False\t      or\t         True\t                    True\n",
    "False\t      or\t         False\t                    False\n",
    "\n",
    "#NOT Operator:\n",
    "         #If the operand is \"true\", the NOT operator returns false, and if the operand is \"false\", it returns true.\n",
    " #It is denoted by the symbol \"not\" or \"!\".\n",
    "\n",
    "#operation      \tx\t             Returns\n",
    "not\t               True\t              False\n",
    "not     \t       False\t           True"
   ]
  },
  {
   "cell_type": "markdown",
   "id": "c6bc57c3",
   "metadata": {},
   "source": [
    "4.What are the values of the following expressions?\n",
    "(5 > 4) and (3 == 5)\n",
    "not (5 > 4)\n",
    "(5 > 4) or (3 == 5)\n",
    "not ((5 > 4) or (3 == 5))\n",
    "(True and True) and (True == False)\n",
    "(not False) or (not True)"
   ]
  },
  {
   "cell_type": "markdown",
   "id": "15f800ff",
   "metadata": {},
   "source": [
    "ANS:\n",
    "(5 > 4) and (3 == 5)\n",
    "True and False evaluates to False.\n",
    "\n",
    "not (5 > 4)\n",
    "not True evaluates to False.\n",
    "\n",
    "(5 > 4) or (3 == 5)\n",
    "True or False evaluates to True.\n",
    "\n",
    "not ((5 > 4) or (3 == 5))\n",
    "True or False evaluates to True\n",
    "not True evaluates to False.\n",
    "\n",
    "(True and True) and (True == False)\n",
    "True and True evaluates to True,True == False evaluates to False,True and False evaluates to False.\n",
    "\n",
    "(not False) or (not True)\n",
    "not False evaluates to True,not True evaluates to False,True or False evaluates to True."
   ]
  },
  {
   "cell_type": "code",
   "execution_count": 3,
   "id": "a9ea5f06",
   "metadata": {},
   "outputs": [
    {
     "name": "stdout",
     "output_type": "stream",
     "text": [
      "False\n",
      "False\n",
      "True\n",
      "False\n",
      "False\n",
      "True\n"
     ]
    }
   ],
   "source": [
    "result1 = (5 > 4) and (3 == 5)\n",
    "\n",
    "result2 = not (5 > 4)\n",
    "\n",
    "result3 = (5 > 4) or (3 == 5)\n",
    "\n",
    "result4 = not ((5 > 4) or (3 == 5))\n",
    "\n",
    "result5 = (True and True) and (True == False)\n",
    " \n",
    "result6 = (not False) or (not True)\n",
    "print(result1)\n",
    "print(result2)\n",
    "print(result3)\n",
    "print(result4)\n",
    "print(result5)\n",
    "print(result6)"
   ]
  },
  {
   "cell_type": "markdown",
   "id": "35f0e4ae",
   "metadata": {},
   "source": [
    "5.What are the six comparison operators?"
   ]
  },
  {
   "cell_type": "markdown",
   "id": "50f660fc",
   "metadata": {},
   "source": [
    "ANS:\n",
    "operators are used for comparing the values.\n",
    "\n",
    "Operator\t           Name\t                            Example\t\n",
    "#==\t                  Equal\t                             x == y\t\n",
    "#!=\t               Not equal\t                         x != y\t\n",
    "#>\t              Greater than\t                         x > y\t\n",
    "#<\t               Less than\t                         x < y\t\n",
    "#>=\t        Greater than or equal to\t                 x >= y\t\n",
    "#<=\t         Less than or equal to\t                     x <= y\n",
    "\n",
    "\n",
    "Equal to(==): This operator returns True if both the operands are equal if both the left and the right operand are equal to each other.\n",
    "\n",
    "Not equal to(!=): This operator returns True if both the operands are not equal.\n",
    "\n",
    "Greater than(>): This operator returns True if the left operand is greater than the right operand.\n",
    "\n",
    "Less than(<): This operator returns True if the left operand is less than the right operand.\n",
    "\n",
    "Greater than or equal to(>=): This operator returns True if the left operand is greater than or equal to the right operand.\n",
    "\n",
    "Less than or equal to(<=): This operator returns True if the left operand is less than or equal to the right operand."
   ]
  },
  {
   "cell_type": "code",
   "execution_count": 4,
   "id": "19b8271c",
   "metadata": {},
   "outputs": [
    {
     "name": "stdout",
     "output_type": "stream",
     "text": [
      "True\n",
      "False\n",
      "False\n",
      "True\n",
      "True\n",
      "False\n"
     ]
    }
   ],
   "source": [
    "a = 9\n",
    "b = 5\n",
    "#programming operation of Greater than\n",
    "print(a > b)\n",
    "#programming operation of Less than\n",
    "print(a < b)\n",
    "#programming operation of Equal to\n",
    "print(a == b)\n",
    "#programming operation of Not equal\n",
    "print(a != b)\n",
    "#programming operation of Greater than or equal to\n",
    "print(a >= b)\n",
    "#programming operation of Less than or equal to\n",
    "print(a <= b)"
   ]
  },
  {
   "cell_type": "markdown",
   "id": "b08b9dc4",
   "metadata": {},
   "source": [
    "6.How do you tell the difference between the equal to and assignment operators?Describe a condition and when you would use one."
   ]
  },
  {
   "cell_type": "markdown",
   "id": "6ef9b13b",
   "metadata": {},
   "source": [
    "ANS:\n",
    " the equal to(==) and assignment operators(=) are performs different opeartions in programming. \n",
    " \n",
    " \n",
    "Equal to(==):It is used to compare the values of both sides.\n",
    "This operator returns \"True\" if both the operands are equal and returns \"false\" both the operands are not equal. \n",
    "\n",
    "the assignment operator (=):It is used to assign value to the variable,this operator takes right side and variable value will be in left side. "
   ]
  },
  {
   "cell_type": "code",
   "execution_count": 5,
   "id": "2a752b86",
   "metadata": {},
   "outputs": [
    {
     "name": "stdout",
     "output_type": "stream",
     "text": [
      "statement is false\n"
     ]
    }
   ],
   "source": [
    "#example for equal to(==)operator\n",
    "x=10\n",
    "y=30\n",
    "if x==y:\n",
    "    print(\"statement is true\")\n",
    "else:\n",
    "    print(\"statement is false\")\n",
    "    \n",
    "    \"\"\"\"\"\"\"\"\"\n",
    "here the value of x is 10 and value of y is 30 and the == operator is used to compare the values of x and y \n",
    "and shows both operands are not equal to each other,so it executes else block.  \n",
    "    \"\"\"\"\"\"\"\"\"\n",
    "#example for assignment operator\n",
    "x=10\n",
    "    #here the = operator assigns the value 10 to the variable x"
   ]
  },
  {
   "cell_type": "markdown",
   "id": "50a48367",
   "metadata": {},
   "source": [
    "7. Identify the three blocks in this code:\n",
    "spam = 0\n",
    "if spam == 10:\n",
    "print('eggs')\n",
    "if spam > 5:\n",
    "print('bacon')\n",
    "else:\n",
    "print('ham')\n",
    "print('spam')\n",
    "print('spam')"
   ]
  },
  {
   "cell_type": "markdown",
   "id": "7a801fd8",
   "metadata": {},
   "source": [
    "ANS:\n",
    "The indentation is important in Python to define the code blocks.\n",
    "\n",
    "block1:\n",
    "  \n",
    "if spam == 10:\n",
    "  print('eggs')\n",
    "   according to the block identification here if statement checks the value 10 of varibale spam is equal or not.\n",
    " if the statement is true it prints string value \"eggs\" .\n",
    "         \n",
    "block2:\n",
    "if spam > 5:\n",
    "print('bacon')\n",
    "else:\n",
    "print('ham')\n",
    " the block 2 code represents also if statement that checks if the value of the variable spam is greater than 5.\n",
    "       If the condition is true which prints the string 'bacon'f the condition is false, it goes to the else statement and executes the prints the string 'ham'.\n",
    "       \n",
    "block3:\n",
    "print('spam')\n",
    "print('spam')\n",
    "   this block of code consists of two same lines that are not inside any conditional statements. It  prints the string 'spam' two times accordingly by given conditons."
   ]
  },
  {
   "cell_type": "code",
   "execution_count": 6,
   "id": "10b976bf",
   "metadata": {},
   "outputs": [
    {
     "name": "stdout",
     "output_type": "stream",
     "text": [
      "ham\n",
      "spam\n",
      "spam\n"
     ]
    }
   ],
   "source": [
    "spam = 0\n",
    "\n",
    "#first block of code\n",
    "if spam == 10:\n",
    "    print('eggs')\n",
    "\n",
    "#second block of code\n",
    "if spam > 5:\n",
    "    print('bacon')\n",
    "else:\n",
    "    print('ham')\n",
    "\n",
    "#third block of code\n",
    "print('spam')\n",
    "print('spam')"
   ]
  },
  {
   "cell_type": "markdown",
   "id": "dea523fe",
   "metadata": {},
   "source": [
    "8.Write code that prints Hello if 1 is stored in spam, prints Howdy if 2 is stored in spam, and prints Greetings! if anything else is stored in spam."
   ]
  },
  {
   "cell_type": "code",
   "execution_count": 7,
   "id": "aec69284",
   "metadata": {},
   "outputs": [
    {
     "name": "stdout",
     "output_type": "stream",
     "text": [
      "Greetings\n"
     ]
    }
   ],
   "source": [
    "spam = 5\n",
    "if spam == 1:\n",
    "        print(\"hello\")\n",
    "elif spam == 2:\n",
    "    print(\"howdy\")\n",
    "else:\n",
    "    print(\"Greetings\")"
   ]
  },
  {
   "cell_type": "markdown",
   "id": "7227d0e1",
   "metadata": {},
   "source": [
    "9.If your programme is stuck in an endless loop, what keys you’ll press?"
   ]
  },
  {
   "cell_type": "markdown",
   "id": "8a84f41a",
   "metadata": {},
   "source": [
    "If the program is stuck in an endless loop and you need to terminate it.\n",
    "\n",
    "Press Ctrl + C in the command prompt where the program is running.\n",
    "\n",
    "if that doesn't work, you can try Ctrl + Break.\n",
    "\n",
    "these key combinations send a signal to the running program to terminate or interrupt its execution these combinations should help you break out of the endless loop. "
   ]
  },
  {
   "cell_type": "code",
   "execution_count": null,
   "id": "936b6871",
   "metadata": {},
   "outputs": [],
   "source": [
    "# Define a variable\n",
    "i = 5\n",
    "\n",
    "# Run this loop while i is less than 15\n",
    "while i < 15:\n",
    "    # Print a message\n",
    "    print(\"Hello, World!\")\n",
    "    \n",
    "    \"\"\"\"\"\"\"\"\"\n",
    " The value of the variable i is never updated (it's always 5). Therefore, the condition i < 15 is always True and the loop never stops.\n",
    "\n",
    "#If we run this code, the output will be an \"infinite\" sequence of Hello, World! messages because\n",
    "\n",
    "#the body of the loop print(\"Hello, World!\") will run indefinitely.\n",
    "\n",
    "#To stop the program, we will need to interrupt the loop manually by pressing CTRL + C.\n",
    "    \"\"\"\"\"\"\"\"\"\n"
   ]
  },
  {
   "cell_type": "markdown",
   "id": "563dc389",
   "metadata": {},
   "source": [
    "10.How can you tell the difference between break and continue"
   ]
  },
  {
   "cell_type": "markdown",
   "id": "400d75b7",
   "metadata": {},
   "source": [
    "ANS:\n",
    "Break statement:\n",
    "The \"break\" statement immediately stop the loop execution.\n",
    "\n",
    "It is used to exit the loop based on a condition and skips the remaining execution of the loop.\n",
    "\n",
    "Continue statement:\n",
    "The \"continue\" statement skips the remaining code inside the loop for the current step and moves to the next step.\n",
    "\n",
    "It is useful if one wants to skip execution of some statement(s) inside the loop for any particular iteration."
   ]
  },
  {
   "cell_type": "code",
   "execution_count": 18,
   "id": "693eb6df",
   "metadata": {},
   "outputs": [
    {
     "name": "stdout",
     "output_type": "stream",
     "text": [
      "1234\n",
      "12346789"
     ]
    }
   ],
   "source": [
    "for i in range(1, 10):\n",
    "    if i == 5:\n",
    "#break statement\n",
    "        break\n",
    "    print(i,end=\"\")\n",
    "print()\n",
    "#continue statement\n",
    "for j in range(1, 10):\n",
    "    if j == 5:\n",
    "        continue\n",
    "    print(j,end=\"\")\n",
    "    "
   ]
  },
  {
   "cell_type": "markdown",
   "id": "c800e34b",
   "metadata": {},
   "source": [
    "11.In a for loop, what is the difference between range(10), range(0, 10), and range(0, 10, 1)?"
   ]
  },
  {
   "cell_type": "markdown",
   "id": "122793cd",
   "metadata": {},
   "source": [
    "ANS:\n",
    "In Python programming, the range() function returns the sequence of the given number between the given range. \n",
    "\n",
    "The function range() is a built-in function of Python.\n",
    "\n",
    "In a for loop, the functions range(10), range(0, 10), and range(0, 10, 1) are all used to generate a sequence of numbers.\n",
    "\n",
    "here, (startvalue =  0, end value = 10, step value = 1)\n",
    "\n",
    "Range(10):\n",
    "\n",
    "the range generates  a sequence of numbers start from 0 and ending at 9(10).\n",
    "The start value is implicitly set to 0 and the step value is implicitly set to 1,the sequence increments by 1 at each iteration.\n",
    "\n",
    "range(0, 10):\n",
    "The start value is 0, and the end value is 10.\n",
    "The step value is implicitly set to 1, so the sequence increments by 1 at each iteration.\n",
    "\n",
    "range(0, 10, 1):\n",
    "The start value is 0, the end value is 10 , and the step value is 1.\n",
    "The step value determines the increment between each consecutive value in the sequence."
   ]
  },
  {
   "cell_type": "code",
   "execution_count": 28,
   "id": "306a0c16",
   "metadata": {},
   "outputs": [
    {
     "name": "stdout",
     "output_type": "stream",
     "text": [
      "0 1 2 3 4 5 6 7 8 9 "
     ]
    }
   ],
   "source": [
    "#range(10)\n",
    "for i  in range (10):\n",
    "    print(i,end=' ')"
   ]
  },
  {
   "cell_type": "code",
   "execution_count": 27,
   "id": "38a693c9",
   "metadata": {},
   "outputs": [
    {
     "name": "stdout",
     "output_type": "stream",
     "text": [
      "0 1 2 3 4 5 6 7 8 9 "
     ]
    }
   ],
   "source": [
    "#range(0,10)\n",
    "i = 0\n",
    "for i in range(0,10):\n",
    "    print(i,end=\" \")"
   ]
  },
  {
   "cell_type": "code",
   "execution_count": 26,
   "id": "dd01071d",
   "metadata": {},
   "outputs": [
    {
     "name": "stdout",
     "output_type": "stream",
     "text": [
      "0 1 2 3 4 5 6 7 8 9 "
     ]
    }
   ],
   "source": [
    "#range(0,10,1)\n",
    "i=0\n",
    "for i in range(0,10,1):\n",
    "    print(i,end=\" \")"
   ]
  },
  {
   "cell_type": "markdown",
   "id": "66ccefbe",
   "metadata": {},
   "source": [
    "12.Write a short program that prints the numbers 1 to 10 using a for loop. Then write an equivalent program that prints the numbers 1 to 10 using a while loop."
   ]
  },
  {
   "cell_type": "code",
   "execution_count": 25,
   "id": "e6a743a1",
   "metadata": {},
   "outputs": [
    {
     "name": "stdout",
     "output_type": "stream",
     "text": [
      "1 2 3 4 5 6 7 8 9 10 "
     ]
    }
   ],
   "source": [
    "for i in range (1,11):\n",
    "    print(i,end=\" \")"
   ]
  },
  {
   "cell_type": "code",
   "execution_count": 20,
   "id": "b58a095e",
   "metadata": {},
   "outputs": [
    {
     "name": "stdout",
     "output_type": "stream",
     "text": [
      "1 2 3 4 5 6 7 8 9 10 "
     ]
    }
   ],
   "source": [
    "sum =1\n",
    "while sum <=10:\n",
    "    print(sum,end=\" \")\n",
    "    sum +=1"
   ]
  },
  {
   "cell_type": "markdown",
   "id": "936eef06",
   "metadata": {},
   "source": [
    "13.If you had a function named bacon() inside a module named spam, how would you call it after importing spam?"
   ]
  },
  {
   "cell_type": "markdown",
   "id": "71ea37a7",
   "metadata": {},
   "source": [
    "ANS:\n",
    " This function can be called with spam.bacon().\n",
    " \n",
    "the importing of spam module can call the bacon() function using the module name as a prefix."
   ]
  },
  {
   "cell_type": "code",
   "execution_count": null,
   "id": "95989ed2",
   "metadata": {},
   "outputs": [],
   "source": [
    "import spam\n",
    "spam.bacon()"
   ]
  }
 ],
 "metadata": {
  "kernelspec": {
   "display_name": "Python 3 (ipykernel)",
   "language": "python",
   "name": "python3"
  },
  "language_info": {
   "codemirror_mode": {
    "name": "ipython",
    "version": 3
   },
   "file_extension": ".py",
   "mimetype": "text/x-python",
   "name": "python",
   "nbconvert_exporter": "python",
   "pygments_lexer": "ipython3",
   "version": "3.10.9"
  }
 },
 "nbformat": 4,
 "nbformat_minor": 5
}
