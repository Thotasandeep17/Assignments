{
 "cells": [
  {
   "cell_type": "markdown",
   "id": "e9ffb107",
   "metadata": {},
   "source": [
    "1. What does an empty dictionary&#39;s code look like?"
   ]
  },
  {
   "cell_type": "code",
   "execution_count": 2,
   "id": "4842d153",
   "metadata": {},
   "outputs": [
    {
     "data": {
      "text/plain": [
       "{}"
      ]
     },
     "execution_count": 2,
     "metadata": {},
     "output_type": "execute_result"
    }
   ],
   "source": [
    "# an empty dictionary contain just a couple of braces\n",
    "d={}\n",
    "d"
   ]
  },
  {
   "cell_type": "markdown",
   "id": "5977a6fc",
   "metadata": {},
   "source": [
    "2. What is the value of a dictionary value with the key 'foo' and the value 42?"
   ]
  },
  {
   "cell_type": "markdown",
   "id": "7897e029",
   "metadata": {},
   "source": [
    "The value of a dictionary with the key 'foo' and the value 42 would simply be 42.\n",
    "In Python, a dictionary is a collection of key-value pairs, where each key is unique."
   ]
  },
  {
   "cell_type": "markdown",
   "id": "2aa2103b",
   "metadata": {},
   "source": [
    "3. What is the most significant distinction between a dictionary and a list?"
   ]
  },
  {
   "cell_type": "code",
   "execution_count": 7,
   "id": "8ae27ba3",
   "metadata": {},
   "outputs": [
    {
     "name": "stdout",
     "output_type": "stream",
     "text": [
      "4\n",
      "1\n"
     ]
    }
   ],
   "source": [
    "# A list is an ordered and it contains only items\n",
    "# a dictionary is an unordered and it contains key value pairs as items\n",
    "l=[1,2,3,4]\n",
    "d={'a':1,'b':2,'c':3}\n",
    "# in lists we can get a value by passing an index value whereas in dictionary we can get a valur by passing a key\n",
    "print(l[3])\n",
    "print(d[\"a\"])"
   ]
  },
  {
   "cell_type": "markdown",
   "id": "60bbe9f5",
   "metadata": {},
   "source": [
    "4. What happens if you try to access spam['foo'] if spam is {'bar': 100}?"
   ]
  },
  {
   "cell_type": "code",
   "execution_count": 9,
   "id": "27c8ce77",
   "metadata": {},
   "outputs": [
    {
     "ename": "KeyError",
     "evalue": "'foo'",
     "output_type": "error",
     "traceback": [
      "\u001b[1;31m---------------------------------------------------------------------------\u001b[0m",
      "\u001b[1;31mKeyError\u001b[0m                                  Traceback (most recent call last)",
      "\u001b[1;32m~\\AppData\\Local\\Temp\\ipykernel_10884\\111132826.py\u001b[0m in \u001b[0;36m<module>\u001b[1;34m\u001b[0m\n\u001b[0;32m      1\u001b[0m \u001b[1;31m# it gives an error\u001b[0m\u001b[1;33m\u001b[0m\u001b[1;33m\u001b[0m\u001b[0m\n\u001b[0;32m      2\u001b[0m \u001b[0ms\u001b[0m\u001b[1;33m=\u001b[0m \u001b[1;33m{\u001b[0m\u001b[1;34m'bar'\u001b[0m\u001b[1;33m:\u001b[0m \u001b[1;36m100\u001b[0m\u001b[1;33m}\u001b[0m\u001b[1;33m\u001b[0m\u001b[1;33m\u001b[0m\u001b[0m\n\u001b[1;32m----> 3\u001b[1;33m \u001b[0ms\u001b[0m\u001b[1;33m[\u001b[0m\u001b[1;34m'foo'\u001b[0m\u001b[1;33m]\u001b[0m\u001b[1;33m\u001b[0m\u001b[1;33m\u001b[0m\u001b[0m\n\u001b[0m",
      "\u001b[1;31mKeyError\u001b[0m: 'foo'"
     ]
    }
   ],
   "source": [
    "# it gives an error\n",
    "s= {'bar': 100}\n",
    "s['foo']"
   ]
  },
  {
   "cell_type": "markdown",
   "id": "92070bf0",
   "metadata": {},
   "source": [
    "5. If a dictionary is stored in spam, what is the difference between the expressions cat in spam and\n",
    "cat; in spam.keys()?"
   ]
  },
  {
   "cell_type": "markdown",
   "id": "f1a9d744",
   "metadata": {},
   "source": [
    "'cat' in spam:\n",
    "This expression checks if the key 'cat' exists in the dictionary spam.\n",
    "\n",
    "It returns True if the key is present in spam and False otherwise.\n",
    "\n",
    "It directly checks for the presence of the key in the dictionary.\n",
    "\n",
    "'cat' in spam.keys():\n",
    "This expression also checks if the key 'cat' exists in the dictionary spam.\n",
    "However, instead of directly checking the dictionary.\n",
    "\n",
    "it first retrieves all the keys of the spam dictionary using the keys() method, \n",
    "and then checks if 'cat' is present in that list of keys.\n",
    "\n",
    "It returns True if the key is found in the list of keys and False otherwise."
   ]
  },
  {
   "cell_type": "code",
   "execution_count": null,
   "id": "fff608c1",
   "metadata": {},
   "outputs": [],
   "source": [
    "spam = {'cat': 42, 'dog': 54, 'mouse': 12}\n",
    "'cat' in spam\n",
    "'cat' in spam.keys()"
   ]
  },
  {
   "cell_type": "markdown",
   "id": "be9532c4",
   "metadata": {},
   "source": [
    "6. If a dictionary is stored in spam, what is the difference between the expressions'cat' in spam and\n",
    "'cat' in spam.values()?"
   ]
  },
  {
   "cell_type": "markdown",
   "id": "2a14a7d5",
   "metadata": {},
   "source": [
    "'cat' in spam:\n",
    "This expression checks if the key 'cat' exists in the dictionary spam.\n",
    "\n",
    "It returns True if the key is present in spam and False otherwise.\n",
    "\n",
    "It directly checks for the presence of the key in the dictionary.\n",
    "\n",
    "'cat' in spam.values():\n",
    "This expression checks if the value 'cat' exists in the values of the dictionary spam. \n",
    "\n",
    "It returns True if the value is found in any of the dictionary's values and False otherwise.\n",
    "\n",
    "It iterates over the values of spam and checks for the presence of 'cat' in those values."
   ]
  },
  {
   "cell_type": "code",
   "execution_count": 1,
   "id": "9690b142",
   "metadata": {},
   "outputs": [
    {
     "name": "stdout",
     "output_type": "stream",
     "text": [
      "False\n",
      "True\n"
     ]
    }
   ],
   "source": [
    "spam = {'color': 'blue', 'animal': 'cat', 'size': 'small'}\n",
    "\n",
    "print('cat' in spam)  \n",
    "print('cat' in spam.values()) "
   ]
  },
  {
   "cell_type": "markdown",
   "id": "e973a592",
   "metadata": {},
   "source": [
    "7. What is a shortcut for the following code?\n",
    "if 'color not in spam:\n",
    "spam['color'] ='black"
   ]
  },
  {
   "cell_type": "code",
   "execution_count": 15,
   "id": "2edead41",
   "metadata": {},
   "outputs": [
    {
     "data": {
      "text/plain": [
       "{'color': 'white'}"
      ]
     },
     "execution_count": 15,
     "metadata": {},
     "output_type": "execute_result"
    }
   ],
   "source": [
    "spam={}\n",
    "# in dictionaries we do not required to chesk whether the key presents in it or not .\n",
    "# we just do the operation as below\n",
    "spam['color'] ='black'\n",
    "spam['color'] ='white'\n",
    "spam\n",
    "# if already there is a key as specified then it assign the new value to that key otherwise it appends the key value pair to the dictionary\n"
   ]
  },
  {
   "cell_type": "markdown",
   "id": "356384d8",
   "metadata": {},
   "source": [
    "8.How do you \"pretty print\" dictionary values using which module and function?"
   ]
  },
  {
   "cell_type": "markdown",
   "id": "1c910355",
   "metadata": {},
   "source": [
    "By importing module and use the function in it.\n",
    "\n",
    "To \"pretty print\" dictionary values in Python, you can use the pprint module, specifically the pprint function. \n",
    "\n",
    "we use pprint.pprint() to pretty print the dictionary."
   ]
  },
  {
   "cell_type": "code",
   "execution_count": 2,
   "id": "72f636a6",
   "metadata": {},
   "outputs": [
    {
     "name": "stdout",
     "output_type": "stream",
     "text": [
      "{'bar': [1, 2, 3], 'baz': {'a': 'apple', 'b': 'banana'}, 'foo': 42}\n"
     ]
    }
   ],
   "source": [
    "import pprint\n",
    "\n",
    "#we import the pprint module and create a dictionary called my_dict.\n",
    "\n",
    "my_dict = {'foo': 42, 'bar': [1, 2, 3], 'baz': {'a': 'apple', 'b': 'banana'}}\n",
    "\n",
    "pprint.pprint(my_dict)\n",
    "#the pprint module is part of the Python standard library, so there is no need for additional installation"
   ]
  },
  {
   "cell_type": "code",
   "execution_count": null,
   "id": "0c2c56f2",
   "metadata": {},
   "outputs": [],
   "source": []
  }
 ],
 "metadata": {
  "kernelspec": {
   "display_name": "Python 3 (ipykernel)",
   "language": "python",
   "name": "python3"
  },
  "language_info": {
   "codemirror_mode": {
    "name": "ipython",
    "version": 3
   },
   "file_extension": ".py",
   "mimetype": "text/x-python",
   "name": "python",
   "nbconvert_exporter": "python",
   "pygments_lexer": "ipython3",
   "version": "3.10.9"
  }
 },
 "nbformat": 4,
 "nbformat_minor": 5
}
