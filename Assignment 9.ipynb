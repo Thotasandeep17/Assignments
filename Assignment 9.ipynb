{
 "cells": [
  {
   "cell_type": "markdown",
   "id": "70a19f40",
   "metadata": {},
   "source": [
    "1. What is a lambda function in Python, and how does it differ from a regular function?"
   ]
  },
  {
   "cell_type": "code",
   "execution_count": 1,
   "id": "c8c894d1",
   "metadata": {},
   "outputs": [
    {
     "name": "stdout",
     "output_type": "stream",
     "text": [
      "10\n",
      "10\n"
     ]
    }
   ],
   "source": [
    "\"\"\"In Python, a lambda function, also known as an anonymous function, is a way to define a function without a name.\n",
    "It is a concise and one-line function that can be created using the lambda keyword.\n",
    "Lambda functions are typically used for simple and short operations that don't require a full function definition.\"\"\"\n",
    "# Lambda function to double a number\n",
    "double = lambda x: x * 2\n",
    "print(double(5))  \n",
    "\"\"\" a lambda function is a way to define small and anonymous functions in Python using a concise syntax.\n",
    "It differs from regular functions in terms of syntax, function name, body, and usage.\"\"\"\n",
    "# Regular function to double a number\n",
    "def double_func(x):\n",
    "    return x * 2\n",
    "print(double_func(5))\n"
   ]
  },
  {
   "cell_type": "markdown",
   "id": "b0ec7624",
   "metadata": {},
   "source": [
    "2. Can a lambda function in Python have multiple arguments? If yes, how can you define and use\n",
    "them?"
   ]
  },
  {
   "cell_type": "code",
   "execution_count": 3,
   "id": "41a183b1",
   "metadata": {},
   "outputs": [
    {
     "name": "stdout",
     "output_type": "stream",
     "text": [
      "7\n"
     ]
    }
   ],
   "source": [
    "\"\"\"Yes, a lambda function in Python can have multiple arguments.\n",
    "You can define and use multiple arguments in a lambda function by separating them with commas in the argument list. \"\"\"\n",
    "add=lambda x,y:x+y\n",
    "print(add(3,4))"
   ]
  },
  {
   "cell_type": "markdown",
   "id": "b6e3ce73",
   "metadata": {},
   "source": [
    "3. How are lambda functions typically used in Python? Provide an example use case."
   ]
  },
  {
   "cell_type": "code",
   "execution_count": 4,
   "id": "4acda7c4",
   "metadata": {},
   "outputs": [
    {
     "name": "stdout",
     "output_type": "stream",
     "text": [
      "[1, 4, 9, 16, 25]\n"
     ]
    }
   ],
   "source": [
    "\"\"\"Lambda functions in Python are typically used in scenarios where a small, one-time function is required,\n",
    "especially when passing functions as arguments to higher-order functions. \n",
    "It is used in sorting,filtering,map,reduce cases\"\"\"\n",
    "#Example:\n",
    "numbers = [1, 2, 3, 4, 5]\n",
    "squared_numbers = list(map(lambda x: x**2, numbers))\n",
    "print(squared_numbers)\n"
   ]
  },
  {
   "cell_type": "markdown",
   "id": "0e150fe0",
   "metadata": {},
   "source": [
    "4. What are the advantages and limitations of lambda functions compared to regular functions in\n",
    "Python?"
   ]
  },
  {
   "cell_type": "code",
   "execution_count": null,
   "id": "350a8148",
   "metadata": {},
   "outputs": [],
   "source": [
    "\"\"\"Advantages of Lambda Functions:\n",
    "\n",
    "Concise Syntax: Lambda functions provide a compact and concise way to define functions, \n",
    "especially for simple operations. They allow you to write functional code in a more expressive and readable manner.\n",
    "\n",
    "Anonymous Function: Lambda functions are anonymous, meaning they don't require a separate function name.\n",
    "This can be advantageous when you need a small function for a specific operation and don't want to clutter your code with unnecessary function definitions.\n",
    "\n",
    "Functional Programming: Lambda functions are often used in functional programming paradigms, where functions are treated as first-class citizens.\n",
    "They enable you to use higher-order functions, such as map(), filter(), and reduce(), to operate on collections of data more easily.\"\"\"\n",
    "\n",
    "\"\"\"Limitations of Lambda Functions:\n",
    "\n",
    "Single Expression: Lambda functions are limited to a single expression. They cannot contain multiple statements or complex logic. \n",
    "If you need to perform more complex operations or include multiple statements, regular functions are more appropriate.\n",
    "\n",
    "Lack of Name: Lambda functions are anonymous and do not have a name. \n",
    "This can make debugging and error tracing more challenging, as the function name won't appear in stack traces or error messages.\n",
    "\n",
    "Limited Reusability: Lambda functions are best suited for small, one-time operations. \n",
    "They are not designed for extensive reuse throughout the codebase. If you find yourself needing to reuse the same function in multiple places, \n",
    "it's better to define a regular named function for better code organization and reusability.\"\"\""
   ]
  },
  {
   "cell_type": "markdown",
   "id": "329a292c",
   "metadata": {},
   "source": [
    "5. Are lambda functions in Python able to access variables defined outside of their own scope?\n",
    "Explain with an example."
   ]
  },
  {
   "cell_type": "code",
   "execution_count": 6,
   "id": "c5d90deb",
   "metadata": {},
   "outputs": [
    {
     "name": "stdout",
     "output_type": "stream",
     "text": [
      "15\n"
     ]
    }
   ],
   "source": [
    "\"\"\"Yes, lambda functions in Python can access variables defined outside of their own scope. \n",
    "They have access to the variables from the enclosing scope in which they are defined. \n",
    "This behavior is known as lexical scoping or closure.\"\"\"\n",
    "def outer_function():\n",
    "    x = 10\n",
    "    lambda_func = lambda y: x + y\n",
    "    return lambda_func\n",
    "lambda_adder = outer_function()\n",
    "result = lambda_adder(5)\n",
    "print(result) "
   ]
  },
  {
   "cell_type": "markdown",
   "id": "155dd731",
   "metadata": {},
   "source": [
    "6. Write a lambda function to calculate the square of a given number."
   ]
  },
  {
   "cell_type": "code",
   "execution_count": 7,
   "id": "272fd073",
   "metadata": {},
   "outputs": [
    {
     "name": "stdout",
     "output_type": "stream",
     "text": [
      "16\n"
     ]
    }
   ],
   "source": [
    "a=lambda x:x**2\n",
    "print(a(4))"
   ]
  },
  {
   "cell_type": "markdown",
   "id": "d91c4064",
   "metadata": {},
   "source": [
    "7. Create a lambda function to find the maximum value in a list of integers."
   ]
  },
  {
   "cell_type": "code",
   "execution_count": 9,
   "id": "cb47a483",
   "metadata": {},
   "outputs": [
    {
     "name": "stdout",
     "output_type": "stream",
     "text": [
      "9\n"
     ]
    }
   ],
   "source": [
    "import functools\n",
    "l=[4,6,3,7,8,9,1,4]\n",
    "c=functools.reduce(lambda x,y:x if x>y else y,l)\n",
    "print(c)"
   ]
  },
  {
   "cell_type": "markdown",
   "id": "ecf4e0d7",
   "metadata": {},
   "source": [
    "8. Implement a lambda function to filter out all the even numbers from a list of integers."
   ]
  },
  {
   "cell_type": "code",
   "execution_count": 11,
   "id": "3d1dbb97",
   "metadata": {},
   "outputs": [
    {
     "name": "stdout",
     "output_type": "stream",
     "text": [
      "[4, 6, 8, 4]\n"
     ]
    }
   ],
   "source": [
    "l=[4,6,3,7,8,9,1,4]\n",
    "s=list(filter(lambda x:x%2==0,l))\n",
    "print(s)"
   ]
  },
  {
   "cell_type": "markdown",
   "id": "146d0834",
   "metadata": {},
   "source": [
    "9. Write a lambda function to sort a list of strings in ascending order based on the length of each\n",
    "string."
   ]
  },
  {
   "cell_type": "code",
   "execution_count": 12,
   "id": "33e040fe",
   "metadata": {},
   "outputs": [
    {
     "name": "stdout",
     "output_type": "stream",
     "text": [
      "['apple', 'banana', 'cherry', 'durian', 'elderberry']\n"
     ]
    }
   ],
   "source": [
    "strings = ['apple', 'banana', 'cherry', 'durian', 'elderberry']\n",
    "sorted_strings = sorted(strings, key=lambda x: len(x))\n",
    "print(sorted_strings)"
   ]
  },
  {
   "cell_type": "markdown",
   "id": "63643351",
   "metadata": {},
   "source": [
    "10. Create a lambda function that takes two lists as input and returns a new list containing the\n",
    "common elements between the two lists."
   ]
  },
  {
   "cell_type": "code",
   "execution_count": 13,
   "id": "126794c3",
   "metadata": {},
   "outputs": [
    {
     "name": "stdout",
     "output_type": "stream",
     "text": [
      "[4, 5]\n"
     ]
    }
   ],
   "source": [
    "list1 = [1, 2, 3, 4, 5]\n",
    "list2 = [4, 5, 6, 7, 8]\n",
    "\n",
    "common_elements = lambda x, y: list(filter(lambda element: element in y, x))\n",
    "result = common_elements(list1, list2)\n",
    "print(result)"
   ]
  },
  {
   "cell_type": "markdown",
   "id": "039fb907",
   "metadata": {},
   "source": [
    "11. Write a recursive function to calculate the factorial of a given positive integer."
   ]
  },
  {
   "cell_type": "code",
   "execution_count": 14,
   "id": "d91367b8",
   "metadata": {},
   "outputs": [
    {
     "name": "stdout",
     "output_type": "stream",
     "text": [
      "The factorial of 5 is: 120\n"
     ]
    }
   ],
   "source": [
    "def factorial(n):\n",
    "    if n == 0 or n == 1:\n",
    "        return 1\n",
    "    else:\n",
    "        return n * factorial(n - 1)\n",
    "number = 5\n",
    "result = factorial(number)\n",
    "print(f\"The factorial of {number} is: {result}\")"
   ]
  },
  {
   "cell_type": "markdown",
   "id": "7ae8ee81",
   "metadata": {},
   "source": [
    "12. Implement a recursive function to compute the nth Fibonacci number."
   ]
  },
  {
   "cell_type": "code",
   "execution_count": 16,
   "id": "91fc1672",
   "metadata": {},
   "outputs": [
    {
     "name": "stdout",
     "output_type": "stream",
     "text": [
      "The 6th Fibonacci number is: 8\n"
     ]
    }
   ],
   "source": [
    "def fibonacci(n):\n",
    "    if n <= 0:\n",
    "        return \"Invalid input.\"\n",
    "\n",
    "    if n == 1 or n == 2:\n",
    "        return 1\n",
    "\n",
    "    return fibonacci(n - 1) + fibonacci(n - 2)\n",
    "\n",
    "# Example usage\n",
    "number = 6\n",
    "result = fibonacci(number)\n",
    "print(f\"The {number}th Fibonacci number is: {result}\")"
   ]
  },
  {
   "cell_type": "markdown",
   "id": "0f7a56af",
   "metadata": {},
   "source": [
    "13. Create a recursive function to find the sum of all the elements in a given list."
   ]
  },
  {
   "cell_type": "code",
   "execution_count": 18,
   "id": "ff396438",
   "metadata": {},
   "outputs": [
    {
     "name": "stdout",
     "output_type": "stream",
     "text": [
      "The sum of the elements in the list is: 15\n"
     ]
    }
   ],
   "source": [
    "def recursive_sum(lst):\n",
    "    if not lst:\n",
    "        return 0\n",
    "    else:\n",
    "        return lst[0] + recursive_sum(lst[1:])\n",
    "\n",
    "# Example usage\n",
    "numbers = [1, 2, 3, 4, 5]\n",
    "result = recursive_sum(numbers)\n",
    "print(f\"The sum of the elements in the list is: {result}\")\n",
    "   "
   ]
  },
  {
   "cell_type": "markdown",
   "id": "10fac6c3",
   "metadata": {},
   "source": [
    "14. Write a recursive function to determine whether a given string is a palindrome."
   ]
  },
  {
   "cell_type": "code",
   "execution_count": 20,
   "id": "47752d10",
   "metadata": {},
   "outputs": [
    {
     "name": "stdout",
     "output_type": "stream",
     "text": [
      "The string 'madam' is a palindrome.\n"
     ]
    }
   ],
   "source": [
    "def is_palindrome(string):\n",
    "    if len(string) <= 1:\n",
    "        return True\n",
    "    else:\n",
    "        if string[0] != string[-1]:\n",
    "            return False\n",
    "        else:\n",
    "            return is_palindrome(string[1:-1])\n",
    "\n",
    "word = \"madam\"\n",
    "result = is_palindrome(word)\n",
    "if result:\n",
    "    print(f\"The string '{word}' is a palindrome.\")\n",
    "else:\n",
    "    print(f\"The string '{word}' is not a palindrome.\")\n"
   ]
  },
  {
   "cell_type": "markdown",
   "id": "1467bd52",
   "metadata": {},
   "source": [
    "15. Implement a recursive function to find the greatest common divisor (GCD) of two positive integers."
   ]
  },
  {
   "cell_type": "code",
   "execution_count": 21,
   "id": "5baf0580",
   "metadata": {},
   "outputs": [
    {
     "name": "stdout",
     "output_type": "stream",
     "text": [
      "The GCD of 48 and 60 is: 12\n"
     ]
    }
   ],
   "source": [
    "def gcd(a, b):\n",
    "    if b == 0:\n",
    "        return a\n",
    "    else:\n",
    "        return gcd(b, a % b)\n",
    "num1 = 48\n",
    "num2 = 60\n",
    "result = gcd(num1, num2)\n",
    "print(f\"The GCD of {num1} and {num2} is: {result}\")\n"
   ]
  }
 ],
 "metadata": {
  "kernelspec": {
   "display_name": "Python 3 (ipykernel)",
   "language": "python",
   "name": "python3"
  },
  "language_info": {
   "codemirror_mode": {
    "name": "ipython",
    "version": 3
   },
   "file_extension": ".py",
   "mimetype": "text/x-python",
   "name": "python",
   "nbconvert_exporter": "python",
   "pygments_lexer": "ipython3",
   "version": "3.10.1"
  }
 },
 "nbformat": 4,
 "nbformat_minor": 5
}
