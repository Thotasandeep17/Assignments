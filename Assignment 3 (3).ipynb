{
 "cells": [
  {
   "cell_type": "markdown",
   "id": "1f3b2c22",
   "metadata": {},
   "source": [
    "1. Why are functions advantageous to have in your programs?"
   ]
  },
  {
   "cell_type": "raw",
   "id": "62d1bfd1",
   "metadata": {},
   "source": [
    "Functions provide a way to structure and organize code, promote reusability, enhance readability,\n",
    "and facilitate modular development.\n",
    "\n",
    "By using functions in programe we can reduce the no of lines of code by re-using of that code when we have a need.\n",
    "these are created simply by using def keyword in python."
   ]
  },
  {
   "cell_type": "code",
   "execution_count": 1,
   "id": "ef39ce09",
   "metadata": {},
   "outputs": [],
   "source": [
    "#creation of a function\n",
    "def sum(a,b):\n",
    "    print(a+b)\n",
    "    \n",
    "#By using functions in programe we can reduce the no of lines of code by re-using of that code when we have a need.\n",
    "#These are created simply by using def keyword in python\n"
   ]
  },
  {
   "cell_type": "markdown",
   "id": "b6bf9d19",
   "metadata": {},
   "source": [
    "2. When does the code in a function run: when it's specified or when it's called?"
   ]
  },
  {
   "cell_type": "raw",
   "id": "613ee4d1",
   "metadata": {},
   "source": [
    "when we specify function it's just created it doesn't return anything.\n",
    "But it gets run only when we call it."
   ]
  },
  {
   "cell_type": "code",
   "execution_count": 2,
   "id": "d4fe18fb",
   "metadata": {},
   "outputs": [
    {
     "name": "stdout",
     "output_type": "stream",
     "text": [
      "5\n"
     ]
    }
   ],
   "source": [
    "#Example\n",
    "def sum(a,b):\n",
    "    print(a+b)\n",
    "sum(2,3)"
   ]
  },
  {
   "cell_type": "markdown",
   "id": "56b6513a",
   "metadata": {},
   "source": [
    "3. What statement creates a function?"
   ]
  },
  {
   "cell_type": "markdown",
   "id": "3c57defd",
   "metadata": {},
   "source": [
    "the def statement is used to create a function.\n",
    "\n",
    "The def statement is followed by the function name, parentheses (), and a colon : .\n",
    "\n",
    "The body of the function is indented below the def statement."
   ]
  },
  {
   "cell_type": "code",
   "execution_count": 10,
   "id": "ebda8b29",
   "metadata": {},
   "outputs": [
    {
     "data": {
      "text/plain": [
       "'hellohellohellohellohello'"
      ]
     },
     "execution_count": 10,
     "metadata": {},
     "output_type": "execute_result"
    }
   ],
   "source": [
    "# The 'def function_name()' creates the function \n",
    "#example\n",
    "def print_hello(num):\n",
    "    return \"hello\"*5\n",
    "print_hello(5)"
   ]
  },
  {
   "cell_type": "markdown",
   "id": "1e775a96",
   "metadata": {},
   "source": [
    "4. What is the difference between a function and a function call?"
   ]
  },
  {
   "cell_type": "markdown",
   "id": "9e9c6a4f",
   "metadata": {},
   "source": [
    "Function: a function is a block of code which is created and used after when we need of that code.\n",
    "\n",
    "It reduces the no of lines of code.\n",
    "\n",
    "There is no need to write repeated  lines of code again and again.\n",
    "\n",
    "Function call: A function call is a statement which is used to execute the program in that created function."
   ]
  },
  {
   "cell_type": "markdown",
   "id": "ae4a5197",
   "metadata": {},
   "source": [
    "5. How many global scopes are there in a Python program? How many local scopes?"
   ]
  },
  {
   "cell_type": "markdown",
   "id": "bab4f9d5",
   "metadata": {},
   "source": [
    "GLOBAL SCOPE: There is only one global scope in a Python program.\n",
    "\n",
    "It is the outermost scope where variables, functions, and classes defined outside of any function or class are stored.\n",
    "\n",
    "Global variables are accessible from anywhere in the program.\n",
    "\n",
    "LOCAL SCOPE: Local scopes are created whenever a function is called or a new block is created within a function. \n",
    "\n",
    "Each function call or block creates a new local scope.\n",
    "\n",
    "Local scopes are used to store local variables that are only accessible within their respective scopes.\n",
    "\n",
    "Local variables are not visible or accessible outside of their scopes."
   ]
  },
  {
   "cell_type": "code",
   "execution_count": 5,
   "id": "8ff6e1ae",
   "metadata": {},
   "outputs": [
    {
     "name": "stdout",
     "output_type": "stream",
     "text": [
      "This is a global function.\n",
      "10\n"
     ]
    }
   ],
   "source": [
    "#examples\n",
    "# global_scope_example.py\n",
    "\n",
    "def global_func():\n",
    "    # Global function\n",
    "    print(\"This is a global function.\")\n",
    "\n",
    "def func():\n",
    "    # Call the global function\n",
    "    global_func()\n",
    "\n",
    "# Call the function\n",
    "func()\n",
    "\n",
    "#local scopes\n",
    "def func():\n",
    "    # Local variable\n",
    "    local_var = 10\n",
    "    print(local_var)\n",
    "\n",
    "# Call the function\n",
    "func()\n"
   ]
  },
  {
   "cell_type": "markdown",
   "id": "28e6e07a",
   "metadata": {},
   "source": [
    "6. What happens to variables in a local scope when the function call returns?"
   ]
  },
  {
   "cell_type": "code",
   "execution_count": 4,
   "id": "8fbebd96",
   "metadata": {},
   "outputs": [
    {
     "name": "stdout",
     "output_type": "stream",
     "text": [
      "30\n"
     ]
    },
    {
     "ename": "NameError",
     "evalue": "name 'x' is not defined",
     "output_type": "error",
     "traceback": [
      "\u001b[1;31m---------------------------------------------------------------------------\u001b[0m",
      "\u001b[1;31mNameError\u001b[0m                                 Traceback (most recent call last)",
      "\u001b[1;32m~\\AppData\\Local\\Temp\\ipykernel_15788\\3352104289.py\u001b[0m in \u001b[0;36m<module>\u001b[1;34m\u001b[0m\n\u001b[0;32m      7\u001b[0m \u001b[0mprint\u001b[0m\u001b[1;33m(\u001b[0m\u001b[0mresult\u001b[0m\u001b[1;33m)\u001b[0m  \u001b[1;31m# Output: 30\u001b[0m\u001b[1;33m\u001b[0m\u001b[1;33m\u001b[0m\u001b[0m\n\u001b[0;32m      8\u001b[0m \u001b[1;33m\u001b[0m\u001b[0m\n\u001b[1;32m----> 9\u001b[1;33m \u001b[0mprint\u001b[0m\u001b[1;33m(\u001b[0m\u001b[0mx\u001b[0m\u001b[1;33m)\u001b[0m  \u001b[1;31m# NameError: name 'x' is not defined\u001b[0m\u001b[1;33m\u001b[0m\u001b[1;33m\u001b[0m\u001b[0m\n\u001b[0m\u001b[0;32m     10\u001b[0m \u001b[0mprint\u001b[0m\u001b[1;33m(\u001b[0m\u001b[0my\u001b[0m\u001b[1;33m)\u001b[0m  \u001b[1;31m# NameError: name 'y' is not defined\u001b[0m\u001b[1;33m\u001b[0m\u001b[1;33m\u001b[0m\u001b[0m\n\u001b[0;32m     11\u001b[0m '''In this example, x and y are local variables within the my_function scope. \n",
      "\u001b[1;31mNameError\u001b[0m: name 'x' is not defined"
     ]
    }
   ],
   "source": [
    "def my_function():\n",
    "    x = 10\n",
    "    y = 20\n",
    "    return x + y\n",
    "\n",
    "result = my_function()\n",
    "print(result)  # Output: 30\n",
    "\n",
    "print(x)  # NameError: name 'x' is not defined\n",
    "print(y)  # NameError: name 'y' is not defined"
   ]
  },
  {
   "cell_type": "markdown",
   "id": "86f1ec42",
   "metadata": {},
   "source": [
    "In this example, x and y are local variables within the my_function scope.\n",
    "\n",
    "Once the function call returns, attempting to access x or y outside the function results in a NameError because, \n",
    "the variables no longer exist in the current scope."
   ]
  },
  {
   "cell_type": "markdown",
   "id": "871028ad",
   "metadata": {},
   "source": [
    "7. What is the concept of a return value? Is it possible to have a return value in an expression?"
   ]
  },
  {
   "cell_type": "markdown",
   "id": "f54ac079",
   "metadata": {},
   "source": [
    "In this example, the add_numbers function takes two arguments, a and b, and returns their sum using the return statement.\n",
    "The return value, which is the result of the addition, is stored in the variable result and then printed to the console.\n",
    "\n",
    "It is not possible to have a return value in an expression.\n",
    "In Python, the return statement is used specifically within functions to indicate the value to be returned.\n",
    "It cannot be used as part of an expression outside of a function. \n",
    "The return statement is only meaningful and valid within the scope of a function definition."
   ]
  },
  {
   "cell_type": "code",
   "execution_count": 3,
   "id": "d266f7e1",
   "metadata": {},
   "outputs": [
    {
     "name": "stdout",
     "output_type": "stream",
     "text": [
      "8\n"
     ]
    }
   ],
   "source": [
    "def add_numbers(a, b):\n",
    "    return a + b\n",
    "\n",
    "result = add_numbers(5, 3)\n",
    "print(result)  "
   ]
  },
  {
   "cell_type": "markdown",
   "id": "83e425e0",
   "metadata": {},
   "source": [
    "8. If a function does not have a return statement, what is the return value of a call to that function?"
   ]
  },
  {
   "cell_type": "code",
   "execution_count": 6,
   "id": "09f40560",
   "metadata": {},
   "outputs": [
    {
     "name": "stdout",
     "output_type": "stream",
     "text": [
      "This function does not have a return statement\n",
      "None\n"
     ]
    }
   ],
   "source": [
    "def my_function():\n",
    "    print(\"This function does not have a return statement\")\n",
    "\n",
    "result = my_function()\n",
    "print(result)  # Output: None"
   ]
  },
  {
   "cell_type": "markdown",
   "id": "5be34d5a",
   "metadata": {},
   "source": [
    "In this example, my_function does not have a return statement. \n",
    "\n",
    "When the function is called, it prints a message but does not explicitly return a value.\n",
    "\n",
    "As a result, the function implicitly returns None.\n",
    "\n",
    "The value of result in the code above will be None, which is then printed to the console."
   ]
  },
  {
   "cell_type": "markdown",
   "id": "b85812ef",
   "metadata": {},
   "source": [
    "9. How do you make a function variable refer to the global variable?"
   ]
  },
  {
   "cell_type": "markdown",
   "id": "d30cb04a",
   "metadata": {},
   "source": [
    "A function variable is refer to the global variable by using global keyword."
   ]
  },
  {
   "cell_type": "markdown",
   "id": "3deb2a46",
   "metadata": {},
   "source": [
    "10. What is the data type of None?"
   ]
  },
  {
   "cell_type": "markdown",
   "id": "065e23f7",
   "metadata": {},
   "source": [
    "the data type of None is called NoneType.\n",
    "None represents the absence of a value or the lack of a specific object. \n",
    "It is often used to indicate that a variable or expression does not have a meaningful value or has not been assigned a value."
   ]
  },
  {
   "cell_type": "code",
   "execution_count": 6,
   "id": "6c3bd2a0",
   "metadata": {},
   "outputs": [
    {
     "name": "stdout",
     "output_type": "stream",
     "text": [
      "<class 'NoneType'>\n"
     ]
    }
   ],
   "source": [
    "print(type(None))  # Output: <class 'NoneType'>"
   ]
  },
  {
   "cell_type": "markdown",
   "id": "eac514f9",
   "metadata": {},
   "source": [
    "11. What does the sentence import areallyourpetsnamederic do?"
   ]
  },
  {
   "cell_type": "markdown",
   "id": "f7d6a2f9",
   "metadata": {},
   "source": [
    "if we create a module named as areallyourpetsnamederic then we are able to import that module into our present python file.\n",
    "\n",
    "import areallyourpetsnamederic, unless you have a custom module with that exact name, it will raise an ImportError indicating that the module cannot be found.\n",
    "\n",
    "The sentence import areallyourpetsnamederic is syntactically valid Python code, but it does not have any predefined meaning or functionality in the Python programming language.\n",
    "\n",
    "It would be interpreted as an attempt to import a module named areallyourpetsnamederic."
   ]
  },
  {
   "cell_type": "markdown",
   "id": "d2fefa80",
   "metadata": {},
   "source": [
    "12. If you had a bacon() feature in a spam module, what would you call it after importing spam?"
   ]
  },
  {
   "cell_type": "code",
   "execution_count": null,
   "id": "5db4099e",
   "metadata": {},
   "outputs": [],
   "source": [
    "#After importing module we can cus the function by using a dot notation\n",
    "import spam\n",
    "x=spam.bacon()\n",
    "#In this code, the bacon() feature from the spam module is accessed using the syntax spam.bacon()."
   ]
  },
  {
   "cell_type": "markdown",
   "id": "14fb3689",
   "metadata": {},
   "source": [
    "13. What can you do to save a programme from crashing if it encounters an error?"
   ]
  },
  {
   "cell_type": "code",
   "execution_count": null,
   "id": "4d2c11a4",
   "metadata": {},
   "outputs": [],
   "source": [
    "\"\"\"Programe can be saved from errors by using Try-Except block \"\"\"\n",
    "try:\n",
    "    # Code that might raise an exception\n",
    "    # ...\n",
    "except ExceptionType:\n",
    "    # Exception handling code\n",
    "    # ...\n",
    "    \n",
    "#By using try-except blocks, you can catch and handle specific exceptions, preventing the program from crashing abruptly"
   ]
  },
  {
   "cell_type": "markdown",
   "id": "530a31f1",
   "metadata": {},
   "source": [
    "14. What is the purpose of the try clause? What is the purpose of the except clause?"
   ]
  },
  {
   "cell_type": "markdown",
   "id": "b8826df3",
   "metadata": {},
   "source": [
    "The purpose of the try clause in Python is to enclose a block of code that may potentially raise an exception.\n",
    "\n",
    "The code inside the try block is executed, and if an exception occurs during its execution, \n",
    "\n",
    "the flow of control is transferred to the corresponding except clause."
   ]
  },
  {
   "cell_type": "code",
   "execution_count": 8,
   "id": "a504b680",
   "metadata": {},
   "outputs": [
    {
     "name": "stdout",
     "output_type": "stream",
     "text": [
      "Error: Cannot divide by zero.\n"
     ]
    }
   ],
   "source": [
    "#examples\n",
    "try:\n",
    "    # Code that may raise an exception\n",
    "    x = 10 / 0\n",
    "except ZeroDivisionError:\n",
    "    # Handling a specific exception (ZeroDivisionError)\n",
    "    print(\"Error: Cannot divide by zero.\")"
   ]
  },
  {
   "cell_type": "code",
   "execution_count": null,
   "id": "4b24867b",
   "metadata": {},
   "outputs": [],
   "source": []
  }
 ],
 "metadata": {
  "kernelspec": {
   "display_name": "Python 3 (ipykernel)",
   "language": "python",
   "name": "python3"
  },
  "language_info": {
   "codemirror_mode": {
    "name": "ipython",
    "version": 3
   },
   "file_extension": ".py",
   "mimetype": "text/x-python",
   "name": "python",
   "nbconvert_exporter": "python",
   "pygments_lexer": "ipython3",
   "version": "3.10.9"
  }
 },
 "nbformat": 4,
 "nbformat_minor": 5
}
