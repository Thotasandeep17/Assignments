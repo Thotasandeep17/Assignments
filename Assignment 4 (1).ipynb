{
 "cells": [
  {
   "cell_type": "markdown",
   "id": "0bd91734",
   "metadata": {},
   "source": [
    "1. What exactly is [ ]?"
   ]
  },
  {
   "cell_type": "markdown",
   "id": "afb4c5ed",
   "metadata": {},
   "source": [
    " [] it is an empty list.\n",
    " \n",
    " Basically a list is represented by closed braces.\n",
    " \n",
    " The square brackets [ ] are mostly used to define and access elements within a list, which is a mutable sequence data type."
   ]
  },
  {
   "cell_type": "code",
   "execution_count": 1,
   "id": "11fc9301",
   "metadata": {},
   "outputs": [
    {
     "name": "stdout",
     "output_type": "stream",
     "text": [
      "1\n"
     ]
    }
   ],
   "source": [
    "#example of list\n",
    "my_list = [1, 2, 3, 4, 5]\n",
    "print(my_list[0]) "
   ]
  },
  {
   "cell_type": "markdown",
   "id": "0ddfcd5e",
   "metadata": {},
   "source": [
    "2. In a list of values stored in a variable called spam, how would you assign the value &#39;hello&#39; as the\n",
    "third value? (Assume [2, 4, 6, 8, 10] are in spam.)"
   ]
  },
  {
   "cell_type": "code",
   "execution_count": 3,
   "id": "8bb63794",
   "metadata": {},
   "outputs": [
    {
     "name": "stdout",
     "output_type": "stream",
     "text": [
      "[2, 4, 'hello', 8, 10]\n"
     ]
    }
   ],
   "source": [
    "# by using index of list we can assign a value to a list at a certain position\n",
    "spam=[2,4,6,8,10]\n",
    "spam[2]=\"hello\"\n",
    "print(spam)"
   ]
  },
  {
   "cell_type": "markdown",
   "id": "57695e14",
   "metadata": {},
   "source": [
    "Let's pretend the spam includes the list ['a', 'b', 'c', 'd'] for the next three queries."
   ]
  },
  {
   "cell_type": "markdown",
   "id": "c5daf83e",
   "metadata": {},
   "source": [
    "3.What is the value of spam [int(int('3' * 2)/ 11] ?"
   ]
  },
  {
   "cell_type": "code",
   "execution_count": 6,
   "id": "6b90a3ce",
   "metadata": {},
   "outputs": [
    {
     "data": {
      "text/plain": [
       "'d'"
      ]
     },
     "execution_count": 6,
     "metadata": {},
     "output_type": "execute_result"
    }
   ],
   "source": [
    "spam=['a','b','c','d']\n",
    "spam[int(int('3'*2)/11)]"
   ]
  },
  {
   "cell_type": "markdown",
   "id": "4b9bc2cc",
   "metadata": {},
   "source": [
    "4. What is the value of spam[-1]?"
   ]
  },
  {
   "cell_type": "markdown",
   "id": "ef508bf6",
   "metadata": {},
   "source": [
    "The value of spam[-1] refers to the last element in the list spam.\n",
    "\n",
    "The negative index -1 indicates the last position in the list.\n",
    "\n",
    "if spam is a list with the values [1, 2, 3, 4, 5], then spam[-1] would be 5, as 5 is the last element in the list."
   ]
  },
  {
   "cell_type": "code",
   "execution_count": 10,
   "id": "1c8b0082",
   "metadata": {},
   "outputs": [
    {
     "data": {
      "text/plain": [
       "'d'"
      ]
     },
     "execution_count": 10,
     "metadata": {},
     "output_type": "execute_result"
    }
   ],
   "source": [
    "#spam[-1] gives the output of 'd'\n",
    "#because in indexing -1 represents last item and -2 represents 2nd last item and so on for an iterable\n",
    "spam=['a','b','c','d']\n",
    "spam[-1]"
   ]
  },
  {
   "cell_type": "markdown",
   "id": "273096d3",
   "metadata": {},
   "source": [
    "5. What is the value of spam[:2]?"
   ]
  },
  {
   "cell_type": "code",
   "execution_count": 9,
   "id": "65ca25de",
   "metadata": {},
   "outputs": [
    {
     "data": {
      "text/plain": [
       "['a', 'b']"
      ]
     },
     "execution_count": 9,
     "metadata": {},
     "output_type": "execute_result"
    }
   ],
   "source": [
    "# this operation is list slicing \n",
    "# in this it prints the items we require in an order with desired step count\n",
    "spam=['a','b','c','d']\n",
    "spam[:2]"
   ]
  },
  {
   "cell_type": "markdown",
   "id": "0e0a8e7b",
   "metadata": {},
   "source": [
    "Let&#39;s pretend bacon has the list [3.14, 'cat', 11,'cat',True] for the next three questions."
   ]
  },
  {
   "cell_type": "markdown",
   "id": "5af8a1b0",
   "metadata": {},
   "source": [
    " 6.What is the value of bacon.index('cat')?"
   ]
  },
  {
   "cell_type": "code",
   "execution_count": 11,
   "id": "e694ebe7",
   "metadata": {},
   "outputs": [
    {
     "data": {
      "text/plain": [
       "1"
      ]
     },
     "execution_count": 11,
     "metadata": {},
     "output_type": "execute_result"
    }
   ],
   "source": [
    "#.index() prints first come index of specified item\n",
    "bacon=[3.14, 'cat', 11,'cat',True]\n",
    "bacon.index('cat')"
   ]
  },
  {
   "cell_type": "markdown",
   "id": "37bdc310",
   "metadata": {},
   "source": [
    "7. How does bacon.append(99) change the look of the list value in bacon?"
   ]
  },
  {
   "cell_type": "code",
   "execution_count": 16,
   "id": "ed7f6551",
   "metadata": {},
   "outputs": [
    {
     "data": {
      "text/plain": [
       "[3.14, 'cat', 11, 'cat', True, 99]"
      ]
     },
     "execution_count": 16,
     "metadata": {},
     "output_type": "execute_result"
    }
   ],
   "source": [
    "#append is used to add an item at the end of list\n",
    "bacon.append(99)\n",
    "bacon"
   ]
  },
  {
   "cell_type": "markdown",
   "id": "8363c5c6",
   "metadata": {},
   "source": [
    "8. How does bacon.remove('cat')change the look of the list in bacon?"
   ]
  },
  {
   "cell_type": "code",
   "execution_count": 12,
   "id": "d7e793f2",
   "metadata": {},
   "outputs": [
    {
     "data": {
      "text/plain": [
       "[3.14, 11, 'cat', True]"
      ]
     },
     "execution_count": 12,
     "metadata": {},
     "output_type": "execute_result"
    }
   ],
   "source": [
    "#remove() is used to remove a specified item in a list\n",
    "#if list contains duplicate values then it removes first come value in list\n",
    "bacon.remove('cat')\n",
    "bacon"
   ]
  },
  {
   "cell_type": "markdown",
   "id": "4824dc80",
   "metadata": {},
   "source": [
    "9. What are the list concatenation and list replication operators?"
   ]
  },
  {
   "cell_type": "code",
   "execution_count": 20,
   "id": "10643127",
   "metadata": {},
   "outputs": [
    {
     "name": "stdout",
     "output_type": "stream",
     "text": [
      "[1, 2, 3, 4, 8, 7, 6, 5]\n",
      "[1, 2, 4, 5, 1, 2, 4, 5, 1, 2, 4, 5]\n"
     ]
    }
   ],
   "source": [
    "#List concatenation(+): it is used to combine two or more lists into a single list\n",
    "a=[1,2,3,4]\n",
    "b=[8,7,6,5]\n",
    "print(a+b)\n",
    "#List replication(*): it is used to repeate a list into desied number of times in a single list\n",
    "n=[1,2,4,5]\n",
    "print(n*3)"
   ]
  },
  {
   "cell_type": "markdown",
   "id": "eb6fc627",
   "metadata": {},
   "source": [
    "10. What is difference between the list methods append() and insert()?"
   ]
  },
  {
   "cell_type": "markdown",
   "id": "ed05f2e7",
   "metadata": {},
   "source": [
    "APPEND(): \n",
    "The append() method is used to add an element to the end of a list. \n",
    "\n",
    "It modifies the list in place by adding the element as the last item.\n",
    "\n",
    "INSERT():\n",
    "The insert() method allows you to add an element at a specific index within the list.\n",
    "\n",
    "It shifts the existing elements to the right and inserts the new element at the specified position."
   ]
  },
  {
   "cell_type": "code",
   "execution_count": 26,
   "id": "19f908ca",
   "metadata": {},
   "outputs": [
    {
     "data": {
      "text/plain": [
       "[1, 2, 'l', 3, 4, 'k']"
      ]
     },
     "execution_count": 26,
     "metadata": {},
     "output_type": "execute_result"
    }
   ],
   "source": [
    "# append(): it is used to add an item at the end of list\n",
    "k=[1,2,3,4]\n",
    "k.append(\"k\")\n",
    "k\n",
    "#insert(): it is used add an item at a specified index\n",
    "k.insert(2,'l')\n",
    "k"
   ]
  },
  {
   "cell_type": "markdown",
   "id": "5af70001",
   "metadata": {},
   "source": [
    "11. What are the two methods for removing items from a list?"
   ]
  },
  {
   "cell_type": "code",
   "execution_count": 30,
   "id": "39ef6cc3",
   "metadata": {},
   "outputs": [
    {
     "name": "stdout",
     "output_type": "stream",
     "text": [
      "[1, 2, 4, 7, 6]\n",
      "2\n",
      "6\n"
     ]
    },
    {
     "data": {
      "text/plain": [
       "[1, 4, 7]"
      ]
     },
     "execution_count": 30,
     "metadata": {},
     "output_type": "execute_result"
    }
   ],
   "source": [
    "# remove (): it is used to remove a specified item\n",
    "l=[1,2,3,4,7,6]\n",
    "l.remove(3)\n",
    "print(l)\n",
    "# pop(): pop is used to remove specified index item in a list. if no index is specified then it removes last item\n",
    "w=l.pop(1)\n",
    "print(w)\n",
    "s=l.pop()\n",
    "print(s)\n",
    "l"
   ]
  },
  {
   "cell_type": "markdown",
   "id": "747c3618",
   "metadata": {},
   "source": [
    "12. Describe how list values and string values are identical."
   ]
  },
  {
   "cell_type": "markdown",
   "id": "08fd9d77",
   "metadata": {},
   "source": [
    "Both string and list are orderd,indexed.\n",
    "\n",
    "We can apply slicing operations, iteration,concatenation, replication, membership,length() opertions on both.\n",
    "\n",
    "The similarity between Lists and Strings in Python is that both are sequences.\n",
    "\n",
    "Lists are mutable but Strings are immutable. "
   ]
  },
  {
   "cell_type": "markdown",
   "id": "fac749a7",
   "metadata": {},
   "source": [
    "13. What's the difference between tuples and lists?"
   ]
  },
  {
   "cell_type": "markdown",
   "id": "255812f3",
   "metadata": {},
   "source": [
    "TUPLES:\n",
    "Tuples are immutable()\n",
    "Tuple does not have many built-in methods.\n",
    "Tuple consumes less memory as compared to the list.\n",
    "\n",
    "LIST[]:\n",
    "Lists are mutable.\n",
    "Lists consume more memory.\n",
    "Lists have several built-in methods."
   ]
  },
  {
   "cell_type": "code",
   "execution_count": 14,
   "id": "0685a14a",
   "metadata": {},
   "outputs": [
    {
     "name": "stdout",
     "output_type": "stream",
     "text": [
      "[1, 2, 3]\n",
      "(10, 20, 30)\n"
     ]
    }
   ],
   "source": [
    "#example of list\n",
    "my_list = [1, 2, 3]\n",
    "print(my_list)\n",
    "    \n",
    "#example of tuple\n",
    "my_tuple = (10, 20, 30)\n",
    "print(my_tuple)\n"
   ]
  },
  {
   "cell_type": "markdown",
   "id": "bddf196a",
   "metadata": {},
   "source": [
    "14. How do you type a tuple value that only contains the integer 42?"
   ]
  },
  {
   "cell_type": "markdown",
   "id": "15c55fbf",
   "metadata": {},
   "source": [
    "For a single value contained tuple we need to mention a comma(,) at the end otherwise its type becomes integer.\n",
    "Without the comma, Python would interpret the expression (42) as just an integer in parentheses, rather than a tuple."
   ]
  },
  {
   "cell_type": "code",
   "execution_count": 15,
   "id": "b69e086e",
   "metadata": {},
   "outputs": [
    {
     "data": {
      "text/plain": [
       "tuple"
      ]
     },
     "execution_count": 15,
     "metadata": {},
     "output_type": "execute_result"
    }
   ],
   "source": [
    "l=(42,)\n",
    "type(l)"
   ]
  },
  {
   "cell_type": "markdown",
   "id": "3c6b39ec",
   "metadata": {},
   "source": [
    "15. How do you get a list value's tuple form? How do you get a tuple value's list form?"
   ]
  },
  {
   "cell_type": "code",
   "execution_count": 35,
   "id": "d2f74a46",
   "metadata": {},
   "outputs": [
    {
     "name": "stdout",
     "output_type": "stream",
     "text": [
      "(2, 3, 5, 4)\n",
      "[7, 8, 9, 5]\n"
     ]
    }
   ],
   "source": [
    "# by doing type conversion\n",
    "#To convert a list to a tuple in Python, you can use the tuple() function.\n",
    "l=[2,3,5,4]\n",
    "print(tuple(l))\n",
    "\n",
    "#To convert a tuple to a list, you can use the list() function.\n",
    "s=(7,8,9,5)\n",
    "print(list(s))"
   ]
  },
  {
   "cell_type": "markdown",
   "id": "b0db97fa",
   "metadata": {},
   "source": [
    "16. Variables that \"contain\" list values are not necessarily lists themselves. Instead, what do they\n",
    "contain?"
   ]
  },
  {
   "cell_type": "markdown",
   "id": "31bc7c54",
   "metadata": {},
   "source": [
    "Variables that \"contain\" list values hold references to the list objects rather than the lists themselves."
   ]
  },
  {
   "cell_type": "markdown",
   "id": "8b0d4b5a",
   "metadata": {},
   "source": [
    "17. How do you distinguish between copy.copy() and copy.deepcopy()?"
   ]
  },
  {
   "cell_type": "code",
   "execution_count": 37,
   "id": "78e517c2",
   "metadata": {},
   "outputs": [
    {
     "name": "stdout",
     "output_type": "stream",
     "text": [
      "[1, [2, 3, 5], 4]\n",
      "[1, [2, 3], 4]\n"
     ]
    }
   ],
   "source": [
    "# if a list not contain any nested lists in it then both works as same way\n",
    "\"\"\"if a list contain nested lists in it then by using copy.copy() if we  insert an element in duplicate list then it also reflects\n",
    "to the original list\"\"\"\n",
    "import copy\n",
    "\n",
    "original_list = [1, [2, 3], 4]\n",
    "copied_list = copy.copy(original_list)\n",
    "\n",
    "copied_list[1].append(5)\n",
    "print(original_list)  \n",
    "\"\"\"by using copy.deepcopy if we insert an element innested list of  duplicate list then it doesn't reflects into original list \"\"\"\n",
    "\n",
    "ol = [1, [2, 3], 4]\n",
    "dcl = copy.deepcopy(ol)\n",
    "\n",
    "dcl[1].append(5)\n",
    "print(ol)"
   ]
  },
  {
   "cell_type": "code",
   "execution_count": null,
   "id": "843b6281",
   "metadata": {},
   "outputs": [],
   "source": []
  }
 ],
 "metadata": {
  "kernelspec": {
   "display_name": "Python 3 (ipykernel)",
   "language": "python",
   "name": "python3"
  },
  "language_info": {
   "codemirror_mode": {
    "name": "ipython",
    "version": 3
   },
   "file_extension": ".py",
   "mimetype": "text/x-python",
   "name": "python",
   "nbconvert_exporter": "python",
   "pygments_lexer": "ipython3",
   "version": "3.10.9"
  }
 },
 "nbformat": 4,
 "nbformat_minor": 5
}
