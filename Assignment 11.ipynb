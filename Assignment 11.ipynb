{
 "cells": [
  {
   "cell_type": "markdown",
   "id": "aa62bcf7",
   "metadata": {},
   "source": [
    "1. What is the role of the 'else' block in a try-except statement? Provide an example\n",
    "scenario where it would be useful."
   ]
  },
  {
   "cell_type": "code",
   "execution_count": 1,
   "id": "dfd22202",
   "metadata": {},
   "outputs": [
    {
     "name": "stdout",
     "output_type": "stream",
     "text": [
      "The division result is: 2.0\n"
     ]
    }
   ],
   "source": [
    "\"\"\"The 'else' block in a try-except statement is optional and provides a way to specify a block of code that should be executed if no exceptions are raised within the corresponding try block.\n",
    "The code inside the 'else' block will run only if the try block executes successfully without any exceptions.\"\"\"\n",
    "def divide_numbers(num1, num2):\n",
    "    try:\n",
    "        result = num1 / num2\n",
    "    except ZeroDivisionError:\n",
    "        print(\"Error: Cannot divide by zero.\")\n",
    "    else:\n",
    "        print(\"The division result is:\", result)\n",
    "divide_numbers(10,5)"
   ]
  },
  {
   "cell_type": "markdown",
   "id": "222ceed2",
   "metadata": {},
   "source": [
    "2. Can a try-except block be nested inside another try-except block? Explain with an\n",
    "example."
   ]
  },
  {
   "cell_type": "code",
   "execution_count": 2,
   "id": "bbc74531",
   "metadata": {},
   "outputs": [
    {
     "name": "stdout",
     "output_type": "stream",
     "text": [
      "Enter a number: 4\n",
      "Enter another number: 0\n",
      "Error: Cannot divide by zero in the inner try-except block.\n"
     ]
    }
   ],
   "source": [
    "\"\"\"Yes, it is possible to have nested try-except blocks in Python. \n",
    "You can have one or more try-except blocks within another try or except block. \n",
    "This allows you to handle exceptions at different levels of the code hierarchy, providing more granular exception handling based on specific scenarios\"\"\"\n",
    "try:\n",
    "    # Outer try block\n",
    "    num1 = int(input(\"Enter a number: \"))\n",
    "    num2 = int(input(\"Enter another number: \"))\n",
    "\n",
    "    try:\n",
    "        # Inner try block\n",
    "        result = num1 / num2\n",
    "        print(\"The result is:\", result)\n",
    "    except ZeroDivisionError:\n",
    "        print(\"Error: Cannot divide by zero in the inner try-except block.\")\n",
    "\n",
    "except ValueError:\n",
    "    print(\"Error: Invalid input. Please enter a valid number in the outer try-except block.\")"
   ]
  },
  {
   "cell_type": "markdown",
   "id": "3a8bbe1d",
   "metadata": {},
   "source": [
    "3. How can you create a custom exception class in Python? Provide an example that\n",
    "demonstrates its usage."
   ]
  },
  {
   "cell_type": "code",
   "execution_count": 4,
   "id": "bd8a31de",
   "metadata": {},
   "outputs": [
    {
     "name": "stdout",
     "output_type": "stream",
     "text": [
      "Enter a number: d\n",
      "Error: Invalid input: Input must be numeric.\n"
     ]
    }
   ],
   "source": [
    "\"\"\"In Python, you can create a custom exception class by defining a new class that inherits from the built-in Exception class or any of its subclasses. \n",
    "By creating a custom exception class, you can define your own exception types to handle specific situations in your code.\"\"\"\n",
    "class CustomException(Exception):\n",
    "    pass\n",
    "\n",
    "def validate_input(value):\n",
    "    if not value.isnumeric():\n",
    "        raise CustomException(\"Invalid input: Input must be numeric.\")\n",
    "\n",
    "try:\n",
    "    user_input = input(\"Enter a number: \")\n",
    "    validate_input(user_input)\n",
    "    print(\"Valid input:\", user_input)\n",
    "except CustomException as e:\n",
    "    print(\"Error:\", str(e))"
   ]
  },
  {
   "cell_type": "markdown",
   "id": "157a73c1",
   "metadata": {},
   "source": [
    "4. What are some common exceptions that are built-in to Python?"
   ]
  },
  {
   "cell_type": "code",
   "execution_count": null,
   "id": "cececed8",
   "metadata": {},
   "outputs": [],
   "source": [
    "\"\"\"SyntaxError: Raised when there is a syntax error in the code.\n",
    "IndentationError: Raised when there is an issue with the indentation of code.\n",
    "NameError: Raised when a local or global name is not found.\n",
    "TypeError: Raised when an operation or function is applied to an object of an inappropriate type.\n",
    "ValueError: Raised when a function receives an argument of the correct type but with an invalid value.\n",
    "KeyError: Raised when a dictionary key is not found.\n",
    "IndexError: Raised when an index is out of range in a sequence.\n",
    "FileNotFoundError: Raised when a file or directory is not found.\n",
    "ZeroDivisionError: Raised when division or modulo operation is performed with zero as the divisor.\"\"\""
   ]
  },
  {
   "cell_type": "markdown",
   "id": "c71928ca",
   "metadata": {},
   "source": [
    "5. What is logging in Python, and why is it important in software development?"
   ]
  },
  {
   "cell_type": "code",
   "execution_count": null,
   "id": "558f1e92",
   "metadata": {},
   "outputs": [],
   "source": [
    "\"\"\"Logging in Python is a mechanism that allows you to record and store messages, warnings, errors, and other relevant information during the execution of a program. \n",
    "The logging module in Python provides a flexible and configurable framework for generating log messages.\"\"\""
   ]
  },
  {
   "cell_type": "markdown",
   "id": "5a90e29e",
   "metadata": {},
   "source": [
    "6. Explain the purpose of log levels in Python logging and provide examples of when\n",
    "each log level would be appropriate."
   ]
  },
  {
   "cell_type": "code",
   "execution_count": 7,
   "id": "e1d5ce1a",
   "metadata": {},
   "outputs": [
    {
     "name": "stderr",
     "output_type": "stream",
     "text": [
      "DEBUG:root:Variable x = 10\n",
      "INFO:root:Server started on port 8080.\n",
      "WARNING:root:Disk space is running low.\n",
      "ERROR:root:Failed to connect to the database.\n",
      "CRITICAL:root:System crashed due to memory overload.\n"
     ]
    }
   ],
   "source": [
    "\"\"\"In Python logging, log levels are used to categorize and prioritize log messages based on their severity or importance. \n",
    "The logging module provides several predefined log levels, each serving a specific purpose\"\"\"\n",
    "\n",
    "\"\"\"DEBUG: The lowest log level used for detailed debugging information. \n",
    "It is typically used during development and debugging stages when you need extensive information about the program's internal state or specific variables.\"\"\"\n",
    "import logging\n",
    "x=10\n",
    "logging.basicConfig(level=logging.DEBUG)\n",
    "logging.debug(\"Variable x = %s\", x)\n",
    "\n",
    "\"\"\"INFO: Used to confirm that things are working as expected. \n",
    "It provides general information about the program's progress and important milestones.\"\"\"\n",
    "logging.basicConfig(level=logging.INFO)\n",
    "logging.info(\"Server started on port 8080.\")\n",
    "\n",
    "\"\"\"WARNING: Used to indicate potential issues or non-fatal errors that may need attention. \n",
    "It doesn't halt the program's execution but serves as a warning to developers or system administrators.\"\"\"\n",
    "logging.basicConfig(level=logging.WARNING)\n",
    "logging.warning(\"Disk space is running low.\")\n",
    "\n",
    "\"\"\"ERROR: Used to indicate errors that may prevent certain functionality or cause program failure.\n",
    "It signifies significant issues that need attention and may require intervention or investigation.\"\"\"\n",
    "logging.basicConfig(level=logging.ERROR)\n",
    "logging.error(\"Failed to connect to the database.\")\n",
    "\n",
    "\"\"\"CRITICAL: The highest log level used for critical errors that may lead to program termination or severe consequences. \n",
    "It indicates an unrecoverable error or a system failure.\"\"\"\n",
    "logging.basicConfig(level=logging.CRITICAL)\n",
    "logging.critical(\"System crashed due to memory overload.\")\n",
    "\n"
   ]
  },
  {
   "cell_type": "markdown",
   "id": "ff3785cc",
   "metadata": {},
   "source": [
    "7. What are log formatters in Python logging, and how can you customise the log\n",
    "message format using formatters?"
   ]
  },
  {
   "cell_type": "code",
   "execution_count": 8,
   "id": "1f1a274c",
   "metadata": {},
   "outputs": [],
   "source": [
    "\"\"\"Log formatters in Python logging are responsible for defining the structure and format of log messages.\n",
    "They allow you to customize the appearance of log messages by specifying the layout and content of each log record. \n",
    "The logging module provides the Formatter class that allows you to create and configure log formatters.\"\"\"\n",
    "import logging\n",
    "formatter = logging.Formatter('%(asctime)s - %(levelname)s - %(message)s')\n"
   ]
  },
  {
   "cell_type": "markdown",
   "id": "dd3604cf",
   "metadata": {},
   "source": [
    "8. How can you set up logging to capture log messages from multiple modules or\n",
    "classes in a Python application?"
   ]
  },
  {
   "cell_type": "code",
   "execution_count": 9,
   "id": "74686771",
   "metadata": {},
   "outputs": [
    {
     "name": "stderr",
     "output_type": "stream",
     "text": [
      "INFO:module1:This is an informational message\n",
      "ERROR:module1:An error occurred\n"
     ]
    }
   ],
   "source": [
    "import logging\n",
    "logging.basicConfig(level=logging.DEBUG, filename='app.log', filemode='w')\n",
    "logger = logging.getLogger('module1')     #Here difine the required module\n",
    "logger.info('This is an informational message')\n",
    "logger.error('An error occurred')\n",
    "\n"
   ]
  },
  {
   "cell_type": "markdown",
   "id": "7b9ced42",
   "metadata": {},
   "source": [
    "9. What is the difference between the logging and print statements in Python? When\n",
    "should you use logging over print statements in a real-world application?"
   ]
  },
  {
   "cell_type": "code",
   "execution_count": null,
   "id": "36ed6eaa",
   "metadata": {},
   "outputs": [],
   "source": [
    "\"\"\"print statements are quick and simple for basic output, logging provides a more comprehensive and flexible solution for capturing and managing log messages in real-world applications. \n",
    "It offers greater control, configurability, and scalability, making it well-suited for debugging, error tracking, long-term analysis, and production environments.\"\"\""
   ]
  },
  {
   "cell_type": "markdown",
   "id": "bff564e2",
   "metadata": {},
   "source": [
    "10. Write a Python program that logs a message to a file named \"app.log\" with the\n",
    "following requirements:\n",
    "● The log message should be \"Hello, World!\"\n",
    "● The log level should be set to \"INFO.\"\n",
    "● The log file should append new log entries without overwriting previous ones."
   ]
  },
  {
   "cell_type": "code",
   "execution_count": null,
   "id": "64688f4a",
   "metadata": {},
   "outputs": [],
   "source": [
    "import logging\n",
    "\n",
    "# Configure logging\n",
    "logging.basicConfig(\n",
    "    level=logging.INFO,\n",
    "    filename='app.log',\n",
    "    filemode='a',\n",
    "    format='%(asctime)s - %(levelname)s - %(message)s'\n",
    ")\n",
    "\n",
    "# Log the message\n",
    "logging.info('Hello, World!')\n"
   ]
  },
  {
   "cell_type": "markdown",
   "id": "01586fb9",
   "metadata": {},
   "source": [
    "11. Create a Python program that logs an error message to the console and a file named\n",
    "\"errors.log\" if an exception occurs during the program's execution. The error\n",
    "message should include the exception type and a timestamp."
   ]
  },
  {
   "cell_type": "code",
   "execution_count": 10,
   "id": "c9e66223",
   "metadata": {},
   "outputs": [],
   "source": [
    "import logging\n",
    "\n",
    "# Configure logging\n",
    "logging.basicConfig(\n",
    "    level=logging.ERROR,\n",
    "    format='%(asctime)s - %(levelname)s - %(message)s',\n",
    "    handlers=[\n",
    "        logging.StreamHandler(),  # Console handler\n",
    "        logging.FileHandler('errors.log')  # File handler\n",
    "    ]\n",
    ")"
   ]
  },
  {
   "cell_type": "code",
   "execution_count": null,
   "id": "66380495",
   "metadata": {},
   "outputs": [],
   "source": []
  }
 ],
 "metadata": {
  "kernelspec": {
   "display_name": "Python 3 (ipykernel)",
   "language": "python",
   "name": "python3"
  },
  "language_info": {
   "codemirror_mode": {
    "name": "ipython",
    "version": 3
   },
   "file_extension": ".py",
   "mimetype": "text/x-python",
   "name": "python",
   "nbconvert_exporter": "python",
   "pygments_lexer": "ipython3",
   "version": "3.10.1"
  }
 },
 "nbformat": 4,
 "nbformat_minor": 5
}
