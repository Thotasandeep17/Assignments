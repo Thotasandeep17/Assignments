{
 "cells": [
  {
   "cell_type": "markdown",
   "id": "468d323e",
   "metadata": {},
   "source": [
    "Q.1. Create two int type variables, apply addition, subtraction, division and multiplications\n",
    "and store the results in variables. Then print the data in the following format by calling the\n",
    "variables:\n",
    "First variable is __ & second variable is __.\n",
    "Addition: __ + __ = __\n",
    "Subtraction: __ - __ = __\n",
    "Multiplication: __ * __ = __\n",
    "Division: __ / __ = __"
   ]
  },
  {
   "cell_type": "code",
   "execution_count": 1,
   "id": "47e33e47",
   "metadata": {},
   "outputs": [
    {
     "name": "stdout",
     "output_type": "stream",
     "text": [
      "First variable is 10 & second variable is 5\n",
      "Addition: 10 + 5 = 15\n",
      "Subtraction: 10 - 5 = 5\n",
      "Multiplication: 10 * 5 = 50\n",
      "Division: 10 / 5 = 2.0\n"
     ]
    }
   ],
   "source": [
    "# Create two int variables\n",
    "first_variable = 10\n",
    "second_variable = 5\n",
    "\n",
    "addition = first_variable + second_variable\n",
    "subtraction = first_variable - second_variable\n",
    "multiplication = first_variable * second_variable\n",
    "division = first_variable / second_variable\n",
    "\n",
    "print(\"First variable is\", first_variable, \"& second variable is\", second_variable)\n",
    "print(\"Addition:\", first_variable, \"+\", second_variable, \"=\", addition)\n",
    "print(\"Subtraction:\", first_variable, \"-\", second_variable, \"=\", subtraction)\n",
    "print(\"Multiplication:\", first_variable, \"*\", second_variable, \"=\", multiplication)\n",
    "print(\"Division:\", first_variable, \"/\", second_variable, \"=\", division)\n"
   ]
  },
  {
   "cell_type": "markdown",
   "id": "3190e1fa",
   "metadata": {},
   "source": [
    "Q.2. What is the difference between the following operators:\n",
    "(i) ‘/’ & ‘//’\n",
    "(ii) ‘**’ & ‘^’"
   ]
  },
  {
   "cell_type": "code",
   "execution_count": 4,
   "id": "9c34208d",
   "metadata": {},
   "outputs": [
    {
     "name": "stdout",
     "output_type": "stream",
     "text": [
      "3.3333333333333335\n",
      "3\n",
      "8\n"
     ]
    }
   ],
   "source": [
    "# '/' it is the division operator and it gives the output as floating point number\n",
    "#Example\n",
    "print(10/3)\n",
    "# '//' it is a floor division operator but it gives the output as round of floating point number whis gives an integer as output\n",
    "print(10//3)\n",
    "\n",
    "# '**' it is an exponentiation operator which give sthe output as an exponent value\n",
    "print(2**3)\n",
    "# '^' it is a bitwiseXOR operator"
   ]
  },
  {
   "cell_type": "markdown",
   "id": "d28345ce",
   "metadata": {},
   "source": [
    "Q.3. List the logical operators."
   ]
  },
  {
   "cell_type": "code",
   "execution_count": 5,
   "id": "291161dd",
   "metadata": {},
   "outputs": [
    {
     "name": "stdout",
     "output_type": "stream",
     "text": [
      "True\n",
      "True\n",
      "True\n"
     ]
    }
   ],
   "source": [
    "\"\"\"and: The logical AND operator. It returns True if both operands are True, otherwise it returns False.\n",
    "\n",
    "or: The logical OR operator. It returns True if at least one of the operands is True, otherwise it returns False.\n",
    "\n",
    "not: The logical NOT operator. It negates the truth value of the operand.\n",
    "If the operand is True, not returns False, and if the operand is False, not returns True.\"\"\"\n",
    "print(True and True)\n",
    "print(True or False)\n",
    "print(not False)"
   ]
  },
  {
   "cell_type": "markdown",
   "id": "601032e4",
   "metadata": {},
   "source": [
    "Q.4. Explain right shift operator and left shift operator with examples."
   ]
  },
  {
   "cell_type": "code",
   "execution_count": 9,
   "id": "b6c351d5",
   "metadata": {},
   "outputs": [
    {
     "name": "stdout",
     "output_type": "stream",
     "text": [
      "4\n",
      "16\n"
     ]
    }
   ],
   "source": [
    "\"\"\"In Python, the right shift ('>>') and left shift ('<<') operators are used to perform bitwise shifting on integers.\n",
    "These operators shift the binary representation of the integer by a specified number of positions to the right or left, respectively.\"\"\"\n",
    "#Example of right shift operator\n",
    "number1 = 16  # Binary representation: 10000\n",
    "# Right shift by 2 positions\n",
    "result1 = number1 >> 2  # Binary representation: 100\n",
    "print(result1) \n",
    "\n",
    "#Example of left shift operator\n",
    "number = 4  # Binary representation: 100\n",
    "# Left shift by 2 positions\n",
    "result = number << 2  # Binary representation: 10000\n",
    "print(result)  \n"
   ]
  },
  {
   "cell_type": "markdown",
   "id": "79ec55df",
   "metadata": {},
   "source": [
    "Q.5. Create a list containing int type data of length 15. Then write a code to check if 10 is\n",
    "present in the list or not."
   ]
  },
  {
   "cell_type": "code",
   "execution_count": 10,
   "id": "604020fd",
   "metadata": {},
   "outputs": [
    {
     "name": "stdout",
     "output_type": "stream",
     "text": [
      "10 is present in the list.\n"
     ]
    }
   ],
   "source": [
    "my_list = [5, 3, 8, 10, 6, 9, 7, 2, 1, 4, 12, 15, 11, 13, 14]\n",
    "\n",
    "# Check if 10 is present in the list\n",
    "if 10 in my_list:\n",
    "    print(\"10 is present in the list.\")\n",
    "else:\n",
    "    print(\"10 is not present in the list.\")"
   ]
  },
  {
   "cell_type": "code",
   "execution_count": null,
   "id": "ae3d42d5",
   "metadata": {},
   "outputs": [],
   "source": []
  }
 ],
 "metadata": {
  "kernelspec": {
   "display_name": "Python 3 (ipykernel)",
   "language": "python",
   "name": "python3"
  },
  "language_info": {
   "codemirror_mode": {
    "name": "ipython",
    "version": 3
   },
   "file_extension": ".py",
   "mimetype": "text/x-python",
   "name": "python",
   "nbconvert_exporter": "python",
   "pygments_lexer": "ipython3",
   "version": "3.10.1"
  }
 },
 "nbformat": 4,
 "nbformat_minor": 5
}
