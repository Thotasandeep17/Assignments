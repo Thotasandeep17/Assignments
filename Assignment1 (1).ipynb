{
 "cells": [
  {
   "cell_type": "markdown",
   "id": "c3042a3c",
   "metadata": {},
   "source": [
    "1. In the below elements which of them are values or an expression? eg:- values can be integer or string and expressions will be mathematical operators.\n",
    "'*'\n",
    "\n",
    "'hello'\n",
    "\n",
    "'-87.8'\n",
    "\n",
    "'- '\n",
    "\n",
    "'/'\n",
    "\n",
    "'+'\n",
    "\n",
    "'6'"
   ]
  },
  {
   "cell_type": "markdown",
   "id": "2ad8f639",
   "metadata": {},
   "source": [
    "There are two types present In given elements one Is values And another one IS expressions(operators)\n",
    "  VALUES ARE :\n",
    "6 (integer) \n",
    "integers: This value is represented by int class.\n",
    "\n",
    "'hello' (string).\n",
    "\n",
    "strings:A string is a sequence of characters represented in the quotation marks.\n",
    "    \n",
    "-87.8 (floating-point number).\n",
    "\n",
    "Float: This value is represented by float class. \n",
    "\n",
    "EXPRESSIONS ARE(operators):\n",
    " \n",
    "(+)Addition : Adds two operands.\n",
    "\n",
    "(-)Subtraction : Subtracts the second operand from the first operand.\n",
    "\n",
    "(*)Multiplication : Multiplies two operands.\n",
    "\n",
    "(/)Division : Divides the first operand by the second operand.\n",
    "\n",
    "These are Arithmetic Operators."
   ]
  },
  {
   "cell_type": "code",
   "execution_count": 3,
   "id": "88803b05",
   "metadata": {},
   "outputs": [
    {
     "name": "stdout",
     "output_type": "stream",
     "text": [
      "6\n",
      "-87.8\n",
      "ineuron\n",
      "30\n",
      "170\n"
     ]
    }
   ],
   "source": [
    "#example for integer\n",
    "a = 6\n",
    "print(a)\n",
    "#example for float\n",
    "b = -87.8\n",
    "print(b)\n",
    "#example for string\n",
    "my_string = \"ineuron\"\n",
    "print(my_string)\n",
    "#example for arithmetic operator\n",
    "a =10\n",
    "b= 20\n",
    "c=a+b\n",
    "d=a*b-c\n",
    "print(c)\n",
    "print(d)"
   ]
  },
  {
   "cell_type": "markdown",
   "id": "9788ae28",
   "metadata": {},
   "source": [
    "2.What Is the difference between string And variable?\n"
   ]
  },
  {
   "cell_type": "markdown",
   "id": "72bedf79",
   "metadata": {},
   "source": [
    "The difference between string And variable are \n",
    "  String :                                                                             \n",
    "A string Is a data Type In python that represents a sequence of characters.                                                    \n",
    "\n",
    "In Python, strings are represented With In either single quotes (' ')or double quotes (\" \").                                                      \n",
    "It is typically used to store the data that consists of characters.\n",
    "  \n",
    " Variable: \n",
    "Variables are used to store and manipulate data during the executon of programming.\n",
    "\n",
    "when you create a variable, you reserve some space in the memory.\n",
    "\n",
    "Based on the data type of a variable the interpreter allocates memory and decides what can be stored in the reserved memory.   \n"
   ]
  },
  {
   "cell_type": "code",
   "execution_count": 1,
   "id": "e4a24e32",
   "metadata": {},
   "outputs": [
    {
     "name": "stdout",
     "output_type": "stream",
     "text": [
      "Ineuron\n",
      "100\n"
     ]
    }
   ],
   "source": [
    "#example of string\n",
    "#example of string\n",
    "# String                                         \n",
    "my_string = \"Ineuron\"                                                                                                              \n",
    "print(my_string)\n",
    "#example of variable\n",
    "my_variable = 100\n",
    "print(my_variable)\n"
   ]
  },
  {
   "cell_type": "markdown",
   "id": "ac0c1c93",
   "metadata": {},
   "source": [
    "3.Describe three different data types"
   ]
  },
  {
   "cell_type": "markdown",
   "id": "82ba8712",
   "metadata": {},
   "source": [
    "datatypes: \n",
    "Data types are the classification of data items.\n",
    "\n",
    "It represents the kind of value that tells what operations can be performed on a particular data.\n",
    "\n",
    "These are 3 main data types are mostly used In python programming.\n",
    "\n",
    "Integer (int):(Numeric data Type)\n",
    "\n",
    "Represents whole numbers without any decimal or fractional part.\n",
    "\n",
    "Examples: -3, 0, 42\n",
    "\n",
    "Integers can be positive or negative.\n",
    "      \n",
    "String (str):(Character data Type)\n",
    "\n",
    "it is a sequence of characters.\n",
    "\n",
    "strings are enclosed with in single quotes (' ') or double quotes (\" \").\n",
    "\n",
    "Examples: \"Hello\", '123', \"Python\".\n",
    "\n",
    "List:(Sequence Type)\n",
    "\n",
    "Represents an ordered collection of values, which can be of different types.\n",
    "\n",
    "Represented in square brackets [ ] and elements are separated by commas.\n",
    "\n",
    "Example: [1, 2, 3, 4]."
   ]
  },
  {
   "cell_type": "code",
   "execution_count": 4,
   "id": "03561599",
   "metadata": {},
   "outputs": [
    {
     "name": "stdout",
     "output_type": "stream",
     "text": [
      "10\n",
      "sandeep\n",
      "['apple', 'banana', 'cherry']\n"
     ]
    }
   ],
   "source": [
    "#example for integer\n",
    "a = int(input())\n",
    "#example for string\n",
    "student_name = \"sandeep\"\n",
    "print(student_name)\n",
    "#example for list\n",
    "fruits = [\"apple\",\"banana\",\"cherry\"]\n",
    "print(fruits)"
   ]
  },
  {
   "cell_type": "markdown",
   "id": "95e03103",
   "metadata": {},
   "source": [
    "4.What is an expression made up of? What do all expressions do?"
   ]
  },
  {
   "cell_type": "markdown",
   "id": "cabfa85a",
   "metadata": {},
   "source": [
    "An expression is a combination of values, variables, operators, and function calls that represents a mathematical or logical computation.\n",
    "expression can be as simple as a single constant or variable.\n",
    "An expression is made up of one or more of these components.\n",
    "1.Values\n",
    "2.Operators\n",
    "3.Variables\n",
    "4.Function calls\n",
    "By combining values, operators, variables, and function calls, expressions are formed.\n",
    "Expressions represent calculations that yield a single value.\n",
    "The value can be assigned to a variable, used in further expressions, or used for control flow in a program.\n",
    "\n",
    "expressions can do allow programs to perform calculations, make decisions, manipulate data, and control program flow.\n",
    "\n",
    "Expressions are evaluated to produce a single value.\n",
    "\n",
    "When an expression is evaluated, the values, variables, operators,\n",
    "and function calls are combined and the operations are performed to compute the result.\n",
    "\n",
    "They are an essential part of programming languages and are used extensively,\n",
    "in writing algorithms, performing mathematical operations, and solving problems in various domains.\n",
    "\n",
    "The result can be assigned to a variable, used in further computations, or displayed as output."
   ]
  },
  {
   "cell_type": "code",
   "execution_count": 8,
   "id": "5a84442e",
   "metadata": {},
   "outputs": [
    {
     "name": "stdout",
     "output_type": "stream",
     "text": [
      "Sum:  9\n",
      "Subtraction:  5\n",
      "Multiplication:  14\n",
      "Division:  3.5\n",
      "10\n",
      "25\n"
     ]
    }
   ],
   "source": [
    "## Arithmetic Expressions                                                \n",
    "a = 7                                                             \n",
    "b = 2                                                            \n",
    "# addition        \n",
    "print ('Sum: ', a + b)                    \n",
    "# subtraction                                                                                           \n",
    "print ('Subtraction: ', a - b)  \n",
    "# multiplication\n",
    "print ('Multiplication: ', a * b)  \n",
    "# division\n",
    "print ('Division: ', a / b)\n",
    "\n",
    "#variable expression\n",
    "my_variable = 10\n",
    "print(my_variable)\n",
    " #Integral Expressions\n",
    "a = 13\n",
    "b = 12.0\n",
    "  \n",
    "c = a + int(b)\n",
    "\n",
    "print(c)"
   ]
  },
  {
   "cell_type": "markdown",
   "id": "700dfc15",
   "metadata": {},
   "source": [
    "5.This assignment statements, like spam = 10. What is the difference between an expression and a statement?"
   ]
  },
  {
   "cell_type": "markdown",
   "id": "b2fb762a",
   "metadata": {},
   "source": [
    "The statement \"spam = 10\" It assigns the value 10 to the variable \"spam\".\n",
    "Right side of the assignment,evaluates to the value 10. \n",
    "this statement performs stroing of value = 10 into the variable \"spam\".\n",
    " spam = 10 \n",
    "   print(spam)\n",
    "Expression:\n",
    "An expression is a combination of symbols, variables, constants, and operators that produces a value when evaluated  to a single value\n",
    "an expression represents a computation or calculation.\n",
    "Expressions can be used within larger expressions or as part of statements.\n",
    " \n",
    " Statement:\n",
    "A statement is a complete instruction or action that performs a specific task. \n",
    "statements do not necessarily produce a value.\n",
    "The Python language has many different types of statements like assignment statements, conditional statements, looping    statements,etc."
   ]
  },
  {
   "cell_type": "code",
   "execution_count": 9,
   "id": "6c1ac409",
   "metadata": {},
   "outputs": [
    {
     "name": "stdout",
     "output_type": "stream",
     "text": [
      "10\n",
      "16\n",
      "x is zero\n"
     ]
    }
   ],
   "source": [
    "#example \n",
    "spam = 10 #here the variable spam contain the value value 10\n",
    "print(spam)\n",
    "#example for expression\n",
    "x = 3 + 6 * 9\n",
    "y = (5 - 2) / 3\n",
    "z = 2 ** 4  \n",
    "print(z)\n",
    "#example for statement\n",
    "a = 30\n",
    "b = 65\n",
    "if a > b:\n",
    "    print(\"x is positive\")\n",
    "else:\n",
    "    print(\"x is zero\")"
   ]
  },
  {
   "cell_type": "markdown",
   "id": "2e45746d",
   "metadata": {},
   "source": [
    "6.After running the following code, what does the variable bacon contain?\n",
    "bacon = 22\n",
    "bacon + 1"
   ]
  },
  {
   "cell_type": "markdown",
   "id": "6838a184",
   "metadata": {},
   "source": [
    "The variable bacon contain value \"22\"\n",
    " if you want print this line \"bacon\" holds the value 22 in storage process\n",
    "    print(bacon)\n",
    "bacon + 1 expression are add value \"1\" to bacon variable.Here the value \"1\"  does not change the bacon variable value  \"22\".\n",
    "here bacon = bacon + 1 to update the value of bacon by adding 1 to it the bacon value changes into \"22\" becuase 1 is added to 22\n",
    "and the output will be 23."
   ]
  },
  {
   "cell_type": "code",
   "execution_count": 10,
   "id": "e516258f",
   "metadata": {},
   "outputs": [
    {
     "name": "stdout",
     "output_type": "stream",
     "text": [
      "23\n"
     ]
    }
   ],
   "source": [
    "#possible code\n",
    "bacon = 22\n",
    "bacon = bacon+1 #to update the value of bacon add 1\n",
    "print(bacon)"
   ]
  },
  {
   "cell_type": "markdown",
   "id": "f6f9004f",
   "metadata": {},
   "source": [
    "7. What should the values of the following two terms be?\n",
    "'spam' + 'spamspam' and\n",
    "'spam' * 3"
   ]
  },
  {
   "cell_type": "markdown",
   "id": "062b5a32",
   "metadata": {},
   "source": [
    "'spam' + 'spamspam': It is a combination of two strings together here, string \"spam\" performs different memory allocation in    memory is less and other strings \"spamspam\" peforms more memory allocation.\n",
    "\n",
    " when two strings are added together and result will \"spamspamspam\".\n",
    " \n",
    "\"spam\" * 3: This expression performs string repetition it repeats the given string in a specified number of times.\n",
    "\n",
    "'spam' * 3 here,the string 'spam' repeats three times and the result will \"spamspamspam\".\n",
    "\n",
    "Given two terms result is same but expression is different in performance."
   ]
  },
  {
   "cell_type": "code",
   "execution_count": 1,
   "id": "4bdb4d3e",
   "metadata": {},
   "outputs": [
    {
     "name": "stdout",
     "output_type": "stream",
     "text": [
      "spamspamspam\n",
      "spamspamspam\n"
     ]
    }
   ],
   "source": [
    "#comibination of two strings \n",
    "my_string = \"spam\"\n",
    "spam = \"spam\" + \"spamspam\"\n",
    "print(spam)\n",
    "\n",
    "#repeation of string\n",
    "my_string2 = \"spam1\"\n",
    "spam1 = \"spam\"*3\n",
    "print(spam1)"
   ]
  },
  {
   "cell_type": "markdown",
   "id": "0c9a6edb",
   "metadata": {},
   "source": [
    "8.Why is eggs a valid variable name while 100 is invalid?"
   ]
  },
  {
   "cell_type": "markdown",
   "id": "27bc1557",
   "metadata": {},
   "source": [
    "Variable :\n",
    "variable names must start with a letter (a-z, A-Z) or an underscore (_).After the first character, variable names can contain letters, numbers, and underscores.\n",
    " Acoording to the rules of variablers eggs starts with a letter ('e') makes it a valid variable name.\n",
    " \n",
    "Term \"100\" starts with a number ('1'), it was against to the rules so, its shows error."
   ]
  },
  {
   "cell_type": "code",
   "execution_count": 6,
   "id": "1e6a5238",
   "metadata": {},
   "outputs": [
    {
     "ename": "SyntaxError",
     "evalue": "invalid syntax (3842217462.py, line 6)",
     "output_type": "error",
     "traceback": [
      "\u001b[1;36m  Cell \u001b[1;32mIn[6], line 6\u001b[1;36m\u001b[0m\n\u001b[1;33m    100 eggs = \"500 rupees\"\u001b[0m\n\u001b[1;37m        ^\u001b[0m\n\u001b[1;31mSyntaxError\u001b[0m\u001b[1;31m:\u001b[0m invalid syntax\n"
     ]
    }
   ],
   "source": [
    "#example for valid program fuction\n",
    "eggs = 20\n",
    "print(20)\n",
    "\n",
    "#example for invalid fuction\n",
    "100 eggs = \"500 rupees\"\n",
    "print(100 eegs)"
   ]
  },
  {
   "cell_type": "markdown",
   "id": "c0c16c40",
   "metadata": {},
   "source": [
    "9.What three functions can be used to get the integer, floating-point number, or string version of a value?"
   ]
  },
  {
   "cell_type": "markdown",
   "id": "602baec3",
   "metadata": {},
   "source": [
    "Integer:\n",
    "The function int() is used to convert a value to an integer.\n",
    "\n",
    "It can convert numeric values, strings representing integers, or floating-point numbers to integers.\n",
    "\n",
    "Floating-point number:\n",
    " The function float() is used to convert a value to a floating-point number. \n",
    "\n",
    "floats can be defined using decimal notation.Floats can be used in mathematical operations like addition, subtraction, multiplication, and division.\n",
    " \n",
    "String:\n",
    "The function str() is used to convert a value to a string.\n",
    " \n",
    "Strings can be defined using single quotes (''), double quotes (\"\") or triple quotes (\"\"\")."
   ]
  },
  {
   "cell_type": "code",
   "execution_count": 12,
   "id": "3ed875bf",
   "metadata": {},
   "outputs": [
    {
     "name": "stdout",
     "output_type": "stream",
     "text": [
      "10\n",
      "20\n",
      "30\n",
      "30\n",
      "99.945\n",
      "sandeep\n"
     ]
    }
   ],
   "source": [
    "#example for integer fuction\n",
    "A = int(input())\n",
    "B = int(input())\n",
    "C = int(input())\n",
    "D = A+B+C\n",
    "print(C)\n",
    "        \n",
    "#example for float fuction\n",
    "value = \"99.945\"\n",
    "float_value = float(value)\n",
    "print(float_value) \n",
    "\n",
    "#example for string fuction\n",
    "name = \"sandeep\"\n",
    "string_name = str(name)\n",
    "print(string_name) \n",
    "\n"
   ]
  },
  {
   "cell_type": "markdown",
   "id": "b4765ca2",
   "metadata": {},
   "source": [
    "10.Why does this expression cause an error? How can you fix it?\n",
    "'I have eaten ' + 99 + ' burritos.'"
   ]
  },
  {
   "cell_type": "markdown",
   "id": "2e61ab20",
   "metadata": {},
   "source": [
    "The expression 'I have eaten ' + 99 + ' burritos.' causes an error because it involves mixed a string ('I have eaten ') with a number (99).\n",
    "\n",
    "strings are denoted with single quotes ('') or double quotes (\"\").\n",
    "\n",
    "To fix the error and run successful comibination of string. we need to convert the number to a string before connect it with the other strings.\n",
    "\n",
    "        #fixed expression\n",
    "      'I have eaten ' + String(99) + ' burritos.'\n",
    "      \n",
    "The number 99 is converted to a string using the String() function before connection.\n",
    "\n",
    "The resulting expression will successfully connected the three parts into a single string."
   ]
  }
 ],
 "metadata": {
  "kernelspec": {
   "display_name": "Python 3 (ipykernel)",
   "language": "python",
   "name": "python3"
  },
  "language_info": {
   "codemirror_mode": {
    "name": "ipython",
    "version": 3
   },
   "file_extension": ".py",
   "mimetype": "text/x-python",
   "name": "python",
   "nbconvert_exporter": "python",
   "pygments_lexer": "ipython3",
   "version": "3.10.9"
  }
 },
 "nbformat": 4,
 "nbformat_minor": 5
}
