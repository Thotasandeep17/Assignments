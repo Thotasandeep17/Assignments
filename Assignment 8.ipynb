{
 "cells": [
  {
   "cell_type": "markdown",
   "id": "282dc56c",
   "metadata": {},
   "source": [
    "1. In Python, what is the difference between a built-in function and a user-defined function? Provide an\n",
    "example of each."
   ]
  },
  {
   "cell_type": "code",
   "execution_count": 2,
   "id": "57e91b33",
   "metadata": {},
   "outputs": [
    {
     "name": "stdout",
     "output_type": "stream",
     "text": [
      "Hello, World!\n",
      "20\n"
     ]
    }
   ],
   "source": [
    "\"\"\"Built-in Function is afunction which is created within the python language. We are no need to create a function again for these\n",
    "functions\"\"\"\n",
    "#Example:\n",
    "print(\"Hello, World!\")\n",
    "\n",
    "\"\"\"user-defined functions are the functions which are created by users in some situations to reduce number of lines of code\"\"\"\n",
    "#Example for user-defined functions:\n",
    "def area_calculator(x,y):\n",
    "    area=x*y\n",
    "    return area\n",
    "a=area_calculator(5,4)\n",
    "print(a)"
   ]
  },
  {
   "cell_type": "markdown",
   "id": "074c5e0d",
   "metadata": {},
   "source": [
    "2. How can you pass arguments to a function in Python? Explain the difference between positional\n",
    "arguments and keyword arguments."
   ]
  },
  {
   "cell_type": "code",
   "execution_count": 4,
   "id": "cac0ab1e",
   "metadata": {},
   "outputs": [
    {
     "name": "stdout",
     "output_type": "stream",
     "text": [
      "hello Sita\n",
      "you are 12 years old\n",
      "hello sita\n",
      "you are 13 years old\n"
     ]
    }
   ],
   "source": [
    "\"\"\"In python we can pass the agruments to a function in  two ways:\n",
    "one--> positional arguments\n",
    "two--> keyword arguments\"\"\"\n",
    "#Positional arguments:\n",
    "\"\"\"Positional arguments are passed to a function based on their position or order. \n",
    "The arguments are matched with the function parameters in the order they are defined.\n",
    "In this type we need to pass values in order\"\"\"\n",
    "#Example:\n",
    "def Greet_a_person(name,age):\n",
    "    print(\"hello\",name)\n",
    "    print(\"you are\",age,\"years old\")\n",
    "Greet_a_person(\"Sita\",12)\n",
    "\n",
    "#Keyword arguments:\n",
    "\"\"\"Keyword arguments are passed to a function using the names of the parameters.\n",
    "Instead of relying on the position, you explicitly mention the parameter name followed by the corresponding value.\n",
    "In this type there is no need to pass values in order.\"\"\"\n",
    "#Example:\n",
    "def Greet_a_person(name,age):\n",
    "    print(\"hello\",name)\n",
    "    print(\"you are\",age,\"years old\")\n",
    "Greet_a_person(age=13,name=\"sita\")\n"
   ]
  },
  {
   "cell_type": "markdown",
   "id": "358c45df",
   "metadata": {},
   "source": [
    "3. What is the purpose of the return statement in a function? Can a function have multiple return\n",
    "statements? Explain with an example."
   ]
  },
  {
   "cell_type": "code",
   "execution_count": 6,
   "id": "8094043b",
   "metadata": {},
   "outputs": [
    {
     "name": "stdout",
     "output_type": "stream",
     "text": [
      "Grade: B\n"
     ]
    }
   ],
   "source": [
    "#return statement:\n",
    "\"\"\"the return statement allows a function to provide a value or values as output to the caller. \n",
    "A function can have multiple return statements,but only one of them is executed,\n",
    "and the function exits upon encountering a return statement.\"\"\"\n",
    "def get_grade(score):\n",
    "    if score >= 90:\n",
    "        return \"A\"\n",
    "    elif score >= 80:\n",
    "        return \"B\"\n",
    "    elif score >= 70:\n",
    "        return \"C\"\n",
    "    else:\n",
    "        return \"F\"\n",
    "result = get_grade(85)\n",
    "print(\"Grade:\", result)\n",
    "#In the above example when we pass a value it checks the conditions and returns the suitable value.Only one return is executed\n"
   ]
  },
  {
   "cell_type": "markdown",
   "id": "d58b25c0",
   "metadata": {},
   "source": [
    "4. What are lambda functions in Python? How are they different from regular functions? Provide an\n",
    "example where a lambda function can be useful."
   ]
  },
  {
   "cell_type": "code",
   "execution_count": 7,
   "id": "36b8c0d2",
   "metadata": {},
   "outputs": [
    {
     "name": "stdout",
     "output_type": "stream",
     "text": [
      "[('durian', 1), ('banana', 2), ('apple', 3), ('cherry', 5)]\n"
     ]
    }
   ],
   "source": [
    "# lambda functions are anonymous functions which are used for one time use purpose\n",
    "# mostly these are used in map,reduce,filter used cases\n",
    "#Example:\n",
    "fruits = [('apple', 3), ('banana', 2), ('cherry', 5), ('durian', 1)]\n",
    "sorted_fruits = sorted(fruits, key=lambda x: x[1])\n",
    "print(sorted_fruits)"
   ]
  },
  {
   "cell_type": "markdown",
   "id": "bb1dc147",
   "metadata": {},
   "source": [
    "5. How does the concept of \"scope\" apply to functions in Python? Explain the difference between local\n",
    "scope and global scope."
   ]
  },
  {
   "cell_type": "code",
   "execution_count": 8,
   "id": "b2c48438",
   "metadata": {},
   "outputs": [
    {
     "name": "stdout",
     "output_type": "stream",
     "text": [
      "10\n",
      "20\n"
     ]
    }
   ],
   "source": [
    "\"\"\"In Python, \"scope\" refers to the region or part of the program where a particular variable or name is accessible and can be referenced\"\"\"\n",
    "#Local scope:Local scope, also known as function scope, refers to variables that are defined within a function. \n",
    "#These variables are only accessible from within that specific function. Once the function finishes executing, the local variables cease to exist.\n",
    "def my_function():\n",
    "    x = 10  # Local variable\n",
    "    print(x)\n",
    "my_function()\n",
    "\n",
    "#Global scope:\n",
    "\"\"\"Global scope refers to variables that are defined outside of any function or, in other words, at the top level of the script.\n",
    "These variables are accessible from anywhere within the program, including inside functions.\"\"\"\n",
    "y=20\n",
    "def my_function():\n",
    "    print(y)\n",
    "my_function()"
   ]
  },
  {
   "cell_type": "markdown",
   "id": "f4a6d647",
   "metadata": {},
   "source": [
    "6. How can you use the \"return\" statement in a Python function to return multiple values?"
   ]
  },
  {
   "cell_type": "code",
   "execution_count": 10,
   "id": "0e46a66f",
   "metadata": {},
   "outputs": [
    {
     "name": "stdout",
     "output_type": "stream",
     "text": [
      "[10, 20, 30]\n"
     ]
    }
   ],
   "source": [
    "#we use List or tuple or any iterables to print all return values in a function\n",
    "#Example:\n",
    "def get_values():\n",
    "    x = 10\n",
    "    y = 20\n",
    "    z = 30\n",
    "    return [x,y,z]\n",
    "result = get_values()\n",
    "print(result)\n",
    "# In the above example all the return values are add to a list and we use the single return statement"
   ]
  },
  {
   "cell_type": "markdown",
   "id": "9cc23f62",
   "metadata": {},
   "source": [
    "7. What is the difference between the \"pass by value\" and \"pass by reference\" concepts when it\n",
    "comes to function arguments in Python?"
   ]
  },
  {
   "cell_type": "code",
   "execution_count": 12,
   "id": "715bd91f",
   "metadata": {},
   "outputs": [
    {
     "name": "stdout",
     "output_type": "stream",
     "text": [
      "10\n",
      "[1, 2, 3, 4]\n"
     ]
    }
   ],
   "source": [
    "\"\"\"Pass by Value:\n",
    "In pass by value, a copy of the value of the variable is passed to the function.\n",
    "Any modifications made to the parameter within the function do not affect the original variable outside the function.\n",
    "\n",
    "Pass by Reference:\n",
    "In pass by reference, a reference to the variable is passed to the function. \n",
    "Any modifications made to the parameter within the function also affect the original variable outside the function.\"\"\"\n",
    "def update_value(num):\n",
    "    num = 100\n",
    "x = 10\n",
    "update_value(x)\n",
    "print(x)\n",
    "\n",
    "\"\"\"In this example, the value of x is passed to the update_value() function. \n",
    "However, when the parameter num is modified within the function, it does not affect the original variable x outside the function. \n",
    "Hence, the output is 10.\"\"\"\n",
    "def update_list(lst):\n",
    "    lst.append(4)\n",
    "my_list = [1, 2, 3]\n",
    "update_list(my_list)\n",
    "print(my_list)\n",
    "#\"\"\"In this example, the reference to my_list is passed to the update_list() function.\n",
    "#When the function appends an element to lst,\n",
    "#it modifies the original list my_list outside the function. Thus, the output is [1, 2, 3, 4].\"\"\""
   ]
  },
  {
   "cell_type": "markdown",
   "id": "fbe97030",
   "metadata": {},
   "source": [
    "8. Create a function that can intake integer or decimal value and do following operations:\n",
    "a. Logarithmic function (log x)\n",
    "b. Exponential function (exp(x))\n",
    "c. Power function with base 2 (2^x)\n",
    "d. Square root"
   ]
  },
  {
   "cell_type": "code",
   "execution_count": 13,
   "id": "d9ac9059",
   "metadata": {},
   "outputs": [
    {
     "name": "stdout",
     "output_type": "stream",
     "text": [
      "Logarithmic function: 0.6931471805599453\n",
      "Exponential function: 7.38905609893065\n",
      "Power function with base 2: 4.0\n",
      "Square root: 1.4142135623730951\n"
     ]
    }
   ],
   "source": [
    "import math\n",
    "\n",
    "def math_operations(value):\n",
    "    # Logarithmic function (log x)\n",
    "    log_result = math.log(value)\n",
    "\n",
    "    # Exponential function (exp(x))\n",
    "    exp_result = math.exp(value)\n",
    "\n",
    "    # Power function with base 2 (2^x)\n",
    "    power_result = math.pow(2, value)\n",
    "\n",
    "    # Square root\n",
    "    sqrt_result = math.sqrt(value)\n",
    "\n",
    "    return log_result, exp_result, power_result, sqrt_result\n",
    "\n",
    "# Testing the function\n",
    "result = math_operations(2)\n",
    "print(\"Logarithmic function:\", result[0])\n",
    "print(\"Exponential function:\", result[1])\n",
    "print(\"Power function with base 2:\", result[2])\n",
    "print(\"Square root:\", result[3])"
   ]
  },
  {
   "cell_type": "markdown",
   "id": "e40d6ed3",
   "metadata": {},
   "source": [
    "9. Create a function that takes a full name as an argument and returns first name and last name."
   ]
  },
  {
   "cell_type": "code",
   "execution_count": 17,
   "id": "79d44401",
   "metadata": {},
   "outputs": [
    {
     "name": "stdout",
     "output_type": "stream",
     "text": [
      "first name: Ram\n",
      "last name: Sita\n"
     ]
    }
   ],
   "source": [
    "def name_split(name):\n",
    "    s=name.split(\" \")\n",
    "    f_name=s[0]\n",
    "    l_name=s[1]\n",
    "    print(\"first name:\",f_name)\n",
    "    print(\"last name:\",l_name)\n",
    "name_split(\"Ram Sita\")\n",
    "    "
   ]
  }
 ],
 "metadata": {
  "kernelspec": {
   "display_name": "Python 3 (ipykernel)",
   "language": "python",
   "name": "python3"
  },
  "language_info": {
   "codemirror_mode": {
    "name": "ipython",
    "version": 3
   },
   "file_extension": ".py",
   "mimetype": "text/x-python",
   "name": "python",
   "nbconvert_exporter": "python",
   "pygments_lexer": "ipython3",
   "version": "3.10.1"
  }
 },
 "nbformat": 4,
 "nbformat_minor": 5
}
